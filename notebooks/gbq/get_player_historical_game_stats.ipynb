{
  "nbformat": 4,
  "nbformat_minor": 0,
  "metadata": {
    "colab": {
      "cell_execution_strategy": "setup",
      "provenance": [],
      "name": "get_player_historical_game_stats"
    },
    "kernelspec": {
      "name": "python3",
      "display_name": "Python 3"
    },
    "language_info": {
      "name": "python"
    }
  },
  "cells": [
    {
      "cell_type": "code",
      "source": [
        "pip install nba_api"
      ],
      "metadata": {
        "colab": {
          "base_uri": "https://localhost:8080/"
        },
        "id": "QxlM_Q0UzQto",
        "executionInfo": {
          "status": "ok",
          "timestamp": 1759265762484,
          "user_tz": 240,
          "elapsed": 5486,
          "user": {
            "displayName": "",
            "userId": ""
          }
        },
        "outputId": "45fbb0ae-a57e-4aca-8fcd-e270a9e4451c"
      },
      "execution_count": 1,
      "outputs": [
        {
          "output_type": "stream",
          "name": "stdout",
          "text": [
            "Collecting nba_api\n",
            "  Downloading nba_api-1.10.2-py3-none-any.whl.metadata (5.8 kB)\n",
            "Requirement already satisfied: numpy>=1.26.0 in /usr/local/lib/python3.10/dist-packages (from nba_api) (1.26.4)\n",
            "Requirement already satisfied: pandas>=2.1.0 in /usr/local/lib/python3.10/dist-packages (from nba_api) (2.2.2)\n",
            "Requirement already satisfied: requests<3.0.0,>=2.32.3 in /usr/local/lib/python3.10/dist-packages (from nba_api) (2.32.3)\n",
            "Requirement already satisfied: python-dateutil>=2.8.2 in /usr/local/lib/python3.10/dist-packages (from pandas>=2.1.0->nba_api) (2.8.2)\n",
            "Requirement already satisfied: pytz>=2020.1 in /usr/local/lib/python3.10/dist-packages (from pandas>=2.1.0->nba_api) (2024.2)\n",
            "Requirement already satisfied: tzdata>=2022.7 in /usr/local/lib/python3.10/dist-packages (from pandas>=2.1.0->nba_api) (2024.2)\n",
            "Requirement already satisfied: charset-normalizer<4,>=2 in /usr/local/lib/python3.10/dist-packages (from requests<3.0.0,>=2.32.3->nba_api) (3.4.1)\n",
            "Requirement already satisfied: idna<4,>=2.5 in /usr/local/lib/python3.10/dist-packages (from requests<3.0.0,>=2.32.3->nba_api) (3.10)\n",
            "Requirement already satisfied: urllib3<3,>=1.21.1 in /usr/local/lib/python3.10/dist-packages (from requests<3.0.0,>=2.32.3->nba_api) (2.3.0)\n",
            "Requirement already satisfied: certifi>=2017.4.17 in /usr/local/lib/python3.10/dist-packages (from requests<3.0.0,>=2.32.3->nba_api) (2024.12.14)\n",
            "Requirement already satisfied: six>=1.5 in /usr/local/lib/python3.10/dist-packages (from python-dateutil>=2.8.2->pandas>=2.1.0->nba_api) (1.17.0)\n",
            "Downloading nba_api-1.10.2-py3-none-any.whl (286 kB)\n",
            "\u001b[2K   \u001b[90m━━━━━━━━━━━━━━━━━━━━━━━━━━━━━━━━━━━━━━━━\u001b[0m \u001b[32m287.0/287.0 kB\u001b[0m \u001b[31m6.0 MB/s\u001b[0m eta \u001b[36m0:00:00\u001b[0m\n",
            "\u001b[?25hInstalling collected packages: nba_api\n",
            "Successfully installed nba_api-1.10.2\n"
          ]
        }
      ]
    },
    {
      "cell_type": "code",
      "source": [
        "import pandas as pd\n",
        "from nba_api.stats.endpoints import playergamelog\n",
        "from google.cloud import bigquery"
      ],
      "metadata": {
        "id": "kcBXq_iS22vT",
        "executionInfo": {
          "status": "ok",
          "timestamp": 1759265766737,
          "user_tz": 240,
          "elapsed": 4255,
          "user": {
            "displayName": "",
            "userId": ""
          }
        }
      },
      "execution_count": 2,
      "outputs": []
    },
    {
      "cell_type": "code",
      "source": [
        "# Initialize BigQuery client\n",
        "client = bigquery.Client()"
      ],
      "metadata": {
        "id": "EAVQGJKB27T7",
        "executionInfo": {
          "status": "ok",
          "timestamp": 1759265766737,
          "user_tz": 240,
          "elapsed": 2,
          "user": {
            "displayName": "",
            "userId": ""
          }
        }
      },
      "execution_count": 3,
      "outputs": []
    },
    {
      "cell_type": "code",
      "source": [
        "from nba_api.stats.endpoints import LeagueGameLog, BoxScoreTraditionalV2\n",
        "from google.cloud import bigquery\n",
        "import pandas as pd\n",
        "from tqdm import tqdm\n",
        "from requests import Session\n",
        "import time\n",
        "from time import sleep\n",
        "from requests.exceptions import ReadTimeout\n",
        "\n",
        "# BigQuery setup\n",
        "client = bigquery.Client()\n",
        "dataset_id = 'fantasy-survivor-app.nba_data'\n",
        "table_id = f'{dataset_id}.player_historical_game_stats'\n",
        "\n",
        "# Define schema for BigQuery\n",
        "schema = [\n",
        "    bigquery.SchemaField('season', 'STRING'),\n",
        "    bigquery.SchemaField('game_id', 'INT64'),\n",
        "    bigquery.SchemaField('team_id', 'INT64'),\n",
        "    bigquery.SchemaField('team_abbreviation', 'STRING'),\n",
        "    bigquery.SchemaField('player_id', 'INT64'),\n",
        "    bigquery.SchemaField('player_name', 'STRING'),\n",
        "    bigquery.SchemaField('start_position', 'STRING'),\n",
        "    bigquery.SchemaField('comment', 'STRING'),\n",
        "    bigquery.SchemaField('minute', 'FLOAT64'),\n",
        "    bigquery.SchemaField('fg_made', 'INT64'),\n",
        "    bigquery.SchemaField('fg_attempts', 'INT64'),\n",
        "    bigquery.SchemaField('fg_pct', 'FLOAT64'),\n",
        "    bigquery.SchemaField('three_p_made', 'INT64'),\n",
        "    bigquery.SchemaField('three_p_attempts', 'INT64'),\n",
        "    bigquery.SchemaField('three_p_pct', 'FLOAT64'),\n",
        "    bigquery.SchemaField('ft_made', 'INT64'),\n",
        "    bigquery.SchemaField('ft_attempts', 'INT64'),\n",
        "    bigquery.SchemaField('ft_pct', 'FLOAT64'),\n",
        "    bigquery.SchemaField('offensive_rebounds', 'INT64'),\n",
        "    bigquery.SchemaField('defensive_rebounds', 'INT64'),\n",
        "    bigquery.SchemaField('rebounds', 'INT64'),\n",
        "    bigquery.SchemaField('assists', 'INT64'),\n",
        "    bigquery.SchemaField('steals', 'INT64'),\n",
        "    bigquery.SchemaField('blocks', 'INT64'),\n",
        "    bigquery.SchemaField('turnovers', 'INT64'),\n",
        "    bigquery.SchemaField('personal_fouls', 'INT64'),\n",
        "    bigquery.SchemaField('points', 'INT64'),\n",
        "    bigquery.SchemaField('plus_minus', 'FLOAT64'),\n",
        "    bigquery.SchemaField('double_double', 'BOOL'),\n",
        "    bigquery.SchemaField('triple_double', 'BOOL')\n",
        "\n",
        "]\n",
        "\n",
        "job_config = bigquery.LoadJobConfig(schema=schema, write_disposition='WRITE_APPEND')\n",
        "\n",
        "# Function to calculate double-double and triple-double\n",
        "def calculate_double_triple_double(stats):\n",
        "    points, rebounds, assists, blocks, steals = stats['PTS'], stats['REB'], stats['AST'], stats['BLK'], stats['STL']\n",
        "    double_double = (\n",
        "        sum(x >= 10 for x in [points, rebounds, assists, blocks, steals]) >= 2\n",
        "    )\n",
        "    triple_double = (\n",
        "        sum(x >= 10 for x in [points, rebounds, assists, blocks, steals]) >= 3\n",
        "    )\n",
        "    return double_double, triple_double\n",
        "\n",
        "# Fetch stats for a single game\n",
        "def fetch_stats_for_game(game_id, season, max_retries=3, timeout=30):\n",
        "    attempt = 0\n",
        "    while attempt < max_retries:\n",
        "        try:\n",
        "            # Fetch data from the API\n",
        "            boxscore = BoxScoreTraditionalV2(game_id=game_id, timeout=timeout)\n",
        "            headers = boxscore.get_dict()['resultSets'][0]['headers']\n",
        "            rows = boxscore.get_dict()['resultSets'][0]['rowSet']\n",
        "            game_df = pd.DataFrame(rows, columns=headers)\n",
        "\n",
        "            if game_df.empty:\n",
        "                return pd.DataFrame()\n",
        "\n",
        "            # Add season column\n",
        "            game_df['SEASON'] = season\n",
        "            game_df['GAME_ID'] = game_df['GAME_ID'].str.lstrip('0').astype('int64')\n",
        "            game_df['TEAM_ID'] = game_df['TEAM_ID'].astype('int64')\n",
        "            game_df['PLAYER_ID'] = game_df['PLAYER_ID'].astype('int64')\n",
        "\n",
        "            # Process MIN column: Extract only the integer part of the time\n",
        "            game_df['MIN'] = game_df['MIN'].apply(\n",
        "                lambda x: int(float(x.split(\":\")[0])) if pd.notnull(x) and isinstance(x, str) else None\n",
        "            )\n",
        "\n",
        "            # Calculate double-double and triple-double\n",
        "            game_df['DOUBLE_DOUBLE'], game_df['TRIPLE_DOUBLE'] = zip(\n",
        "                *game_df.apply(lambda x: calculate_double_triple_double(x), axis=1)\n",
        "            )\n",
        "\n",
        "            # Select and rename columns\n",
        "            game_df = game_df[[\n",
        "                'SEASON', 'GAME_ID', 'TEAM_ID', 'TEAM_ABBREVIATION', 'PLAYER_ID', 'PLAYER_NAME',\n",
        "                'START_POSITION', 'COMMENT', 'MIN', 'FGM', 'FGA', 'FG_PCT', 'FG3M',\n",
        "                'FG3A', 'FG3_PCT', 'FTM', 'FTA', 'FT_PCT', 'OREB', 'DREB', 'REB', 'AST',\n",
        "                'STL', 'BLK', 'TO', 'PF', 'PTS', 'PLUS_MINUS', 'DOUBLE_DOUBLE', 'TRIPLE_DOUBLE'\n",
        "            ]]\n",
        "\n",
        "            # Define the column mapping based on the schema\n",
        "            column_mapping = {\n",
        "                'SEASON': 'season',\n",
        "                'GAME_ID': 'game_id',\n",
        "                'TEAM_ID': 'team_id',\n",
        "                'TEAM_ABBREVIATION': 'team_abbreviation',\n",
        "                'PLAYER_ID': 'player_id',\n",
        "                'PLAYER_NAME': 'player_name',\n",
        "                'START_POSITION': 'start_position',\n",
        "                'COMMENT': 'comment',\n",
        "                'MIN': 'minute',\n",
        "                'FGM': 'fg_made',\n",
        "                'FGA': 'fg_attempts',\n",
        "                'FG_PCT': 'fg_pct',\n",
        "                'FG3M': 'three_p_made',\n",
        "                'FG3A': 'three_p_attempts',\n",
        "                'FG3_PCT': 'three_p_pct',\n",
        "                'FTM': 'ft_made',\n",
        "                'FTA': 'ft_attempts',\n",
        "                'FT_PCT': 'ft_pct',\n",
        "                'OREB': 'offensive_rebounds',\n",
        "                'DREB': 'defensive_rebounds',\n",
        "                'REB': 'rebounds',\n",
        "                'AST': 'assists',\n",
        "                'STL': 'steals',\n",
        "                'BLK': 'blocks',\n",
        "                'TO': 'turnovers',\n",
        "                'PF': 'personal_fouls',\n",
        "                'PTS': 'points',\n",
        "                'PLUS_MINUS': 'plus_minus',\n",
        "                'DOUBLE_DOUBLE': 'double_double',\n",
        "                'TRIPLE_DOUBLE': 'triple_double'\n",
        "            }\n",
        "\n",
        "            # Rename columns in the DataFrame using the mapping\n",
        "            game_df.rename(columns=column_mapping, inplace=True)\n",
        "\n",
        "            return game_df\n",
        "\n",
        "        except ReadTimeout:\n",
        "            attempt += 1\n",
        "            print(f\"Timeout occurred for game_id {game_id}. Retrying {attempt}/{max_retries}...\")\n",
        "            sleep(5)  # Wait before retrying\n",
        "\n",
        "        except Exception as e:\n",
        "            print(f\"Error fetching data for game_id {game_id}: {e}\")\n",
        "            return pd.DataFrame()\n",
        "\n",
        "    # If retries are exhausted, raise an exception or return an empty DataFrame\n",
        "    print(f\"Failed to fetch data for game_id {game_id} after {max_retries} retries.\")\n",
        "    return pd.DataFrame()\n",
        "\n",
        "\n",
        "# Get all game IDs for the past three seasons\n",
        "def get_game_ids_for_season(season):\n",
        "    game_log = LeagueGameLog(season=season, season_type_all_star='Regular Season')\n",
        "    games = game_log.get_data_frames()[0]\n",
        "    return games['GAME_ID'].unique().tolist()\n",
        "\n",
        "# Process and save historical data\n",
        "#seasons = [\"2021-22\", \"2022-23\", \"2023-24\"]\n",
        "seasons = [\"2024-25\"]\n",
        "batch_size = 100\n",
        "batch = []\n",
        "\n",
        "for season in seasons:\n",
        "    print(f\"Processing season: {season}\")\n",
        "    game_ids = get_game_ids_for_season(season)\n",
        "\n",
        "    for i, game_id in enumerate(tqdm(game_ids, desc=f\"Processing games for {season}\")):\n",
        "        game_stats = fetch_stats_for_game(game_id, season)\n",
        "        if not game_stats.empty:\n",
        "            batch.append(game_stats)\n",
        "\n",
        "        # Save to BigQuery in batches\n",
        "        if len(batch) >= batch_size or i == len(game_ids) - 1:\n",
        "            batch_df = pd.concat(batch, ignore_index=True)\n",
        "            job = client.load_table_from_dataframe(batch_df, table_id, job_config=job_config)\n",
        "            job.result()  # Wait for the job to complete\n",
        "            print(f\"Saved {len(batch_df)} rows to BigQuery.\")\n",
        "            batch = []  # Clear the batch\n"
      ],
      "metadata": {
        "colab": {
          "base_uri": "https://localhost:8080/"
        },
        "id": "qgxhGAx72le6",
        "outputId": "5d426aef-58ec-4ad1-e8b4-12cffdc7f0a3"
      },
      "execution_count": null,
      "outputs": [
        {
          "output_type": "stream",
          "name": "stdout",
          "text": [
            "Processing season: 2024-25\n"
          ]
        },
        {
          "output_type": "stream",
          "name": "stderr",
          "text": [
            "Processing games for 2024-25:   1%|          | 14/1230 [00:01<02:33,  7.91it/s]"
          ]
        },
        {
          "output_type": "stream",
          "name": "stdout",
          "text": [
            "Timeout occurred for game_id 0022400076. Retrying 1/3...\n",
            "Timeout occurred for game_id 0022400076. Retrying 2/3...\n",
            "Timeout occurred for game_id 0022400076. Retrying 3/3...\n"
          ]
        },
        {
          "output_type": "stream",
          "name": "stderr",
          "text": [
            "Processing games for 2024-25:   1%|▏         | 17/1230 [01:47<4:38:06, 13.76s/it]"
          ]
        },
        {
          "output_type": "stream",
          "name": "stdout",
          "text": [
            "Failed to fetch data for game_id 0022400076 after 3 retries.\n"
          ]
        },
        {
          "output_type": "stream",
          "name": "stderr",
          "text": [
            "Processing games for 2024-25:   3%|▎         | 31/1230 [01:59<19:45,  1.01it/s]"
          ]
        },
        {
          "output_type": "stream",
          "name": "stdout",
          "text": [
            "Timeout occurred for game_id 0022400094. Retrying 1/3...\n"
          ]
        },
        {
          "output_type": "stream",
          "name": "stderr",
          "text": [
            "Processing games for 2024-25:   4%|▎         | 46/1230 [02:40<11:47,  1.67it/s]"
          ]
        },
        {
          "output_type": "stream",
          "name": "stdout",
          "text": [
            "Timeout occurred for game_id 0022400107. Retrying 1/3...\n",
            "Timeout occurred for game_id 0022400107. Retrying 2/3...\n",
            "Timeout occurred for game_id 0022400107. Retrying 3/3...\n"
          ]
        },
        {
          "output_type": "stream",
          "name": "stderr",
          "text": [
            "\rProcessing games for 2024-25:   4%|▍         | 47/1230 [04:10<6:19:46, 19.26s/it]"
          ]
        },
        {
          "output_type": "stream",
          "name": "stdout",
          "text": [
            "Failed to fetch data for game_id 0022400107 after 3 retries.\n",
            "Timeout occurred for game_id 0022400109. Retrying 1/3...\n",
            "Timeout occurred for game_id 0022400109. Retrying 2/3...\n",
            "Timeout occurred for game_id 0022400109. Retrying 3/3...\n"
          ]
        },
        {
          "output_type": "stream",
          "name": "stderr",
          "text": [
            "Processing games for 2024-25:   4%|▍         | 49/1230 [05:55<9:21:07, 28.51s/it] "
          ]
        },
        {
          "output_type": "stream",
          "name": "stdout",
          "text": [
            "Failed to fetch data for game_id 0022400109 after 3 retries.\n"
          ]
        },
        {
          "output_type": "stream",
          "name": "stderr",
          "text": [
            "Processing games for 2024-25:   5%|▌         | 63/1230 [06:10<32:18,  1.66s/it]"
          ]
        },
        {
          "output_type": "stream",
          "name": "stdout",
          "text": [
            "Timeout occurred for game_id 0022400124. Retrying 1/3...\n",
            "Timeout occurred for game_id 0022400124. Retrying 2/3...\n",
            "Timeout occurred for game_id 0022400124. Retrying 3/3...\n"
          ]
        },
        {
          "output_type": "stream",
          "name": "stderr",
          "text": [
            "\rProcessing games for 2024-25:   5%|▌         | 64/1230 [07:41<6:35:22, 20.35s/it]"
          ]
        },
        {
          "output_type": "stream",
          "name": "stdout",
          "text": [
            "Failed to fetch data for game_id 0022400124 after 3 retries.\n",
            "Timeout occurred for game_id 0022400120. Retrying 1/3...\n",
            "Timeout occurred for game_id 0022400120. Retrying 2/3...\n",
            "Timeout occurred for game_id 0022400120. Retrying 3/3...\n"
          ]
        },
        {
          "output_type": "stream",
          "name": "stderr",
          "text": [
            "\rProcessing games for 2024-25:   5%|▌         | 65/1230 [09:26<12:13:05, 37.76s/it]"
          ]
        },
        {
          "output_type": "stream",
          "name": "stdout",
          "text": [
            "Failed to fetch data for game_id 0022400120 after 3 retries.\n",
            "Timeout occurred for game_id 0022400125. Retrying 1/3...\n",
            "Timeout occurred for game_id 0022400125. Retrying 2/3...\n"
          ]
        },
        {
          "output_type": "stream",
          "name": "stderr",
          "text": [
            "Processing games for 2024-25:   7%|▋         | 80/1230 [10:50<50:10,  2.62s/it]"
          ]
        },
        {
          "output_type": "stream",
          "name": "stdout",
          "text": [
            "Timeout occurred for game_id 0022400141. Retrying 1/3...\n",
            "Timeout occurred for game_id 0022400141. Retrying 2/3...\n",
            "Timeout occurred for game_id 0022400141. Retrying 3/3...\n"
          ]
        },
        {
          "output_type": "stream",
          "name": "stderr",
          "text": [
            "Processing games for 2024-25:   7%|▋         | 82/1230 [12:23<5:22:04, 16.83s/it]"
          ]
        },
        {
          "output_type": "stream",
          "name": "stdout",
          "text": [
            "Failed to fetch data for game_id 0022400141 after 3 retries.\n"
          ]
        },
        {
          "output_type": "stream",
          "name": "stderr",
          "text": [
            "Processing games for 2024-25:   8%|▊         | 96/1230 [12:40<20:36,  1.09s/it]"
          ]
        },
        {
          "output_type": "stream",
          "name": "stdout",
          "text": [
            "Timeout occurred for game_id 0022400160. Retrying 1/3...\n",
            "Timeout occurred for game_id 0022400160. Retrying 2/3...\n",
            "Timeout occurred for game_id 0022400160. Retrying 3/3...\n"
          ]
        },
        {
          "output_type": "stream",
          "name": "stderr",
          "text": [
            "\rProcessing games for 2024-25:   8%|▊         | 97/1230 [14:09<6:14:16, 19.82s/it]"
          ]
        },
        {
          "output_type": "stream",
          "name": "stdout",
          "text": [
            "Failed to fetch data for game_id 0022400160 after 3 retries.\n",
            "Timeout occurred for game_id 0022400165. Retrying 1/3...\n",
            "Timeout occurred for game_id 0022400165. Retrying 2/3...\n"
          ]
        },
        {
          "output_type": "stream",
          "name": "stderr",
          "text": [
            "Processing games for 2024-25:   9%|▉         | 108/1230 [15:23<1:22:45,  4.43s/it]"
          ]
        },
        {
          "output_type": "stream",
          "name": "stdout",
          "text": [
            "Saved 2720 rows to BigQuery.\n"
          ]
        },
        {
          "output_type": "stream",
          "name": "stderr",
          "text": [
            "Processing games for 2024-25:  10%|▉         | 122/1230 [15:40<07:49,  2.36it/s]"
          ]
        },
        {
          "output_type": "stream",
          "name": "stdout",
          "text": [
            "Timeout occurred for game_id 0022400183. Retrying 1/3...\n",
            "Timeout occurred for game_id 0022400183. Retrying 2/3...\n",
            "Timeout occurred for game_id 0022400183. Retrying 3/3...\n"
          ]
        },
        {
          "output_type": "stream",
          "name": "stderr",
          "text": [
            "\rProcessing games for 2024-25:  10%|█         | 123/1230 [17:10<5:49:52, 18.96s/it]"
          ]
        },
        {
          "output_type": "stream",
          "name": "stdout",
          "text": [
            "Failed to fetch data for game_id 0022400183 after 3 retries.\n",
            "Timeout occurred for game_id 0022400185. Retrying 1/3...\n"
          ]
        },
        {
          "output_type": "stream",
          "name": "stderr",
          "text": [
            "Processing games for 2024-25:  11%|█         | 138/1230 [18:00<26:14,  1.44s/it]"
          ]
        },
        {
          "output_type": "stream",
          "name": "stdout",
          "text": [
            "Timeout occurred for game_id 0022400200. Retrying 1/3...\n",
            "Timeout occurred for game_id 0022400200. Retrying 2/3...\n",
            "Timeout occurred for game_id 0022400200. Retrying 3/3...\n"
          ]
        },
        {
          "output_type": "stream",
          "name": "stderr",
          "text": [
            "\rProcessing games for 2024-25:  11%|█▏        | 139/1230 [19:31<6:04:59, 20.07s/it]"
          ]
        },
        {
          "output_type": "stream",
          "name": "stdout",
          "text": [
            "Failed to fetch data for game_id 0022400200 after 3 retries.\n",
            "Timeout occurred for game_id 0022400197. Retrying 1/3...\n",
            "Timeout occurred for game_id 0022400197. Retrying 2/3...\n"
          ]
        },
        {
          "output_type": "stream",
          "name": "stderr",
          "text": [
            "Processing games for 2024-25:  13%|█▎        | 154/1230 [21:00<34:49,  1.94s/it]"
          ]
        },
        {
          "output_type": "stream",
          "name": "stdout",
          "text": [
            "Timeout occurred for game_id 0022400215. Retrying 1/3...\n",
            "Timeout occurred for game_id 0022400215. Retrying 2/3...\n",
            "Timeout occurred for game_id 0022400215. Retrying 3/3...\n"
          ]
        },
        {
          "output_type": "stream",
          "name": "stderr",
          "text": [
            "Processing games for 2024-25:  13%|█▎        | 156/1230 [22:27<4:52:20, 16.33s/it]"
          ]
        },
        {
          "output_type": "stream",
          "name": "stdout",
          "text": [
            "Failed to fetch data for game_id 0022400215 after 3 retries.\n"
          ]
        },
        {
          "output_type": "stream",
          "name": "stderr",
          "text": [
            "Processing games for 2024-25:  14%|█▍        | 170/1230 [22:40<18:47,  1.06s/it]"
          ]
        },
        {
          "output_type": "stream",
          "name": "stdout",
          "text": [
            "Timeout occurred for game_id 0022400223. Retrying 1/3...\n",
            "Timeout occurred for game_id 0022400223. Retrying 2/3...\n",
            "Timeout occurred for game_id 0022400223. Retrying 3/3...\n"
          ]
        },
        {
          "output_type": "stream",
          "name": "stderr",
          "text": [
            "\rProcessing games for 2024-25:  14%|█▍        | 171/1230 [24:13<5:49:05, 19.78s/it]"
          ]
        },
        {
          "output_type": "stream",
          "name": "stdout",
          "text": [
            "Failed to fetch data for game_id 0022400223 after 3 retries.\n",
            "Timeout occurred for game_id 0022400226. Retrying 1/3...\n",
            "Timeout occurred for game_id 0022400226. Retrying 2/3...\n",
            "Timeout occurred for game_id 0022400226. Retrying 3/3...\n"
          ]
        },
        {
          "output_type": "stream",
          "name": "stderr",
          "text": [
            "Processing games for 2024-25:  14%|█▍        | 173/1230 [25:59<8:28:23, 28.86s/it] "
          ]
        },
        {
          "output_type": "stream",
          "name": "stdout",
          "text": [
            "Failed to fetch data for game_id 0022400226 after 3 retries.\n"
          ]
        },
        {
          "output_type": "stream",
          "name": "stderr",
          "text": [
            "Processing games for 2024-25:  15%|█▌        | 187/1230 [26:20<29:19,  1.69s/it]"
          ]
        },
        {
          "output_type": "stream",
          "name": "stdout",
          "text": [
            "Timeout occurred for game_id 0022400011. Retrying 1/3...\n",
            "Timeout occurred for game_id 0022400011. Retrying 2/3...\n",
            "Timeout occurred for game_id 0022400011. Retrying 3/3...\n"
          ]
        },
        {
          "output_type": "stream",
          "name": "stderr",
          "text": [
            "\rProcessing games for 2024-25:  15%|█▌        | 188/1230 [27:45<5:53:52, 20.38s/it]"
          ]
        },
        {
          "output_type": "stream",
          "name": "stdout",
          "text": [
            "Failed to fetch data for game_id 0022400011 after 3 retries.\n",
            "Timeout occurred for game_id 0022400230. Retrying 1/3...\n",
            "Timeout occurred for game_id 0022400230. Retrying 2/3...\n",
            "Timeout occurred for game_id 0022400230. Retrying 3/3...\n"
          ]
        },
        {
          "output_type": "stream",
          "name": "stderr",
          "text": [
            "\rProcessing games for 2024-25:  15%|█▌        | 189/1230 [29:30<10:55:30, 37.78s/it]"
          ]
        },
        {
          "output_type": "stream",
          "name": "stdout",
          "text": [
            "Failed to fetch data for game_id 0022400230 after 3 retries.\n",
            "Timeout occurred for game_id 0022400231. Retrying 1/3...\n",
            "Timeout occurred for game_id 0022400231. Retrying 2/3...\n",
            "Timeout occurred for game_id 0022400231. Retrying 3/3...\n"
          ]
        },
        {
          "output_type": "stream",
          "name": "stderr",
          "text": [
            "Processing games for 2024-25:  16%|█▌        | 191/1230 [31:16<11:34:40, 40.12s/it]"
          ]
        },
        {
          "output_type": "stream",
          "name": "stdout",
          "text": [
            "Failed to fetch data for game_id 0022400231 after 3 retries.\n"
          ]
        },
        {
          "output_type": "stream",
          "name": "stderr",
          "text": [
            "Processing games for 2024-25:  17%|█▋        | 205/1230 [31:30<36:36,  2.14s/it]"
          ]
        },
        {
          "output_type": "stream",
          "name": "stdout",
          "text": [
            "Timeout occurred for game_id 0022400251. Retrying 1/3...\n",
            "Timeout occurred for game_id 0022400251. Retrying 2/3...\n",
            "Timeout occurred for game_id 0022400251. Retrying 3/3...\n"
          ]
        },
        {
          "output_type": "stream",
          "name": "stderr",
          "text": [
            "Processing games for 2024-25:  17%|█▋        | 207/1230 [33:02<4:42:22, 16.56s/it]"
          ]
        },
        {
          "output_type": "stream",
          "name": "stdout",
          "text": [
            "Failed to fetch data for game_id 0022400251 after 3 retries.\n"
          ]
        },
        {
          "output_type": "stream",
          "name": "stderr",
          "text": [
            "Processing games for 2024-25:  18%|█▊        | 219/1230 [33:05<31:23,  1.86s/it]"
          ]
        },
        {
          "output_type": "stream",
          "name": "stdout",
          "text": [
            "Saved 2646 rows to BigQuery.\n"
          ]
        },
        {
          "output_type": "stream",
          "name": "stderr",
          "text": [
            "Processing games for 2024-25:  19%|█▉        | 231/1230 [33:20<04:20,  3.83it/s]"
          ]
        },
        {
          "output_type": "stream",
          "name": "stdout",
          "text": [
            "Timeout occurred for game_id 0022400032. Retrying 1/3...\n",
            "Timeout occurred for game_id 0022400032. Retrying 2/3...\n"
          ]
        },
        {
          "output_type": "stream",
          "name": "stderr",
          "text": [
            "Processing games for 2024-25:  20%|█▉        | 245/1230 [34:30<16:08,  1.02it/s]"
          ]
        },
        {
          "output_type": "stream",
          "name": "stdout",
          "text": [
            "Timeout occurred for game_id 0022400273. Retrying 1/3...\n",
            "Timeout occurred for game_id 0022400273. Retrying 2/3...\n",
            "Timeout occurred for game_id 0022400273. Retrying 3/3...\n"
          ]
        },
        {
          "output_type": "stream",
          "name": "stderr",
          "text": [
            "\rProcessing games for 2024-25:  20%|██        | 247/1230 [36:03<4:35:25, 16.81s/it]"
          ]
        },
        {
          "output_type": "stream",
          "name": "stdout",
          "text": [
            "Failed to fetch data for game_id 0022400273 after 3 retries.\n",
            "Timeout occurred for game_id 0022400274. Retrying 1/3...\n",
            "Timeout occurred for game_id 0022400274. Retrying 2/3...\n",
            "Timeout occurred for game_id 0022400274. Retrying 3/3...\n"
          ]
        },
        {
          "output_type": "stream",
          "name": "stderr",
          "text": [
            "\rProcessing games for 2024-25:  20%|██        | 248/1230 [37:48<8:55:06, 32.69s/it]"
          ]
        },
        {
          "output_type": "stream",
          "name": "stdout",
          "text": [
            "Failed to fetch data for game_id 0022400274 after 3 retries.\n",
            "Timeout occurred for game_id 0022400276. Retrying 1/3...\n",
            "Timeout occurred for game_id 0022400276. Retrying 2/3...\n"
          ]
        },
        {
          "output_type": "stream",
          "name": "stderr",
          "text": [
            "Processing games for 2024-25:  21%|██▏       | 263/1230 [39:10<41:22,  2.57s/it]"
          ]
        },
        {
          "output_type": "stream",
          "name": "stdout",
          "text": [
            "Timeout occurred for game_id 0022400038. Retrying 1/3...\n",
            "Timeout occurred for game_id 0022400038. Retrying 2/3...\n",
            "Timeout occurred for game_id 0022400038. Retrying 3/3...\n"
          ]
        },
        {
          "output_type": "stream",
          "name": "stderr",
          "text": [
            "\rProcessing games for 2024-25:  21%|██▏       | 264/1230 [40:45<5:38:24, 21.02s/it]"
          ]
        },
        {
          "output_type": "stream",
          "name": "stdout",
          "text": [
            "Failed to fetch data for game_id 0022400038 after 3 retries.\n",
            "Timeout occurred for game_id 0022400287. Retrying 1/3...\n"
          ]
        },
        {
          "output_type": "stream",
          "name": "stderr",
          "text": [
            "Processing games for 2024-25:  23%|██▎       | 279/1230 [41:40<24:16,  1.53s/it]"
          ]
        },
        {
          "output_type": "stream",
          "name": "stdout",
          "text": [
            "Timeout occurred for game_id 0022400047. Retrying 1/3...\n",
            "Timeout occurred for game_id 0022400047. Retrying 2/3...\n",
            "Timeout occurred for game_id 0022400047. Retrying 3/3...\n"
          ]
        },
        {
          "output_type": "stream",
          "name": "stderr",
          "text": [
            "\rProcessing games for 2024-25:  23%|██▎       | 280/1230 [43:06<5:19:13, 20.16s/it]"
          ]
        },
        {
          "output_type": "stream",
          "name": "stdout",
          "text": [
            "Failed to fetch data for game_id 0022400047 after 3 retries.\n",
            "Timeout occurred for game_id 0022400042. Retrying 1/3...\n",
            "Timeout occurred for game_id 0022400042. Retrying 2/3...\n",
            "Timeout occurred for game_id 0022400042. Retrying 3/3...\n"
          ]
        },
        {
          "output_type": "stream",
          "name": "stderr",
          "text": [
            "\rProcessing games for 2024-25:  23%|██▎       | 281/1230 [44:51<9:53:48, 37.54s/it]"
          ]
        },
        {
          "output_type": "stream",
          "name": "stdout",
          "text": [
            "Failed to fetch data for game_id 0022400042 after 3 retries.\n",
            "Timeout occurred for game_id 0022400044. Retrying 1/3...\n",
            "Timeout occurred for game_id 0022400044. Retrying 2/3...\n",
            "Timeout occurred for game_id 0022400044. Retrying 3/3...\n"
          ]
        },
        {
          "output_type": "stream",
          "name": "stderr",
          "text": [
            "Processing games for 2024-25:  23%|██▎       | 283/1230 [46:36<10:30:57, 39.98s/it]"
          ]
        },
        {
          "output_type": "stream",
          "name": "stdout",
          "text": [
            "Failed to fetch data for game_id 0022400044 after 3 retries.\n"
          ]
        },
        {
          "output_type": "stream",
          "name": "stderr",
          "text": [
            "Processing games for 2024-25:  24%|██▍       | 297/1230 [46:50<33:39,  2.16s/it]"
          ]
        },
        {
          "output_type": "stream",
          "name": "stdout",
          "text": [
            "Timeout occurred for game_id 0022400310. Retrying 1/3...\n",
            "Timeout occurred for game_id 0022400310. Retrying 2/3...\n",
            "Timeout occurred for game_id 0022400310. Retrying 3/3...\n"
          ]
        },
        {
          "output_type": "stream",
          "name": "stderr",
          "text": [
            "\rProcessing games for 2024-25:  24%|██▍       | 298/1230 [48:23<5:23:36, 20.83s/it]"
          ]
        },
        {
          "output_type": "stream",
          "name": "stdout",
          "text": [
            "Failed to fetch data for game_id 0022400310 after 3 retries.\n",
            "Timeout occurred for game_id 0022400311. Retrying 1/3...\n",
            "Timeout occurred for game_id 0022400311. Retrying 2/3...\n"
          ]
        },
        {
          "output_type": "stream",
          "name": "stderr",
          "text": [
            "Processing games for 2024-25:  25%|██▌       | 313/1230 [49:50<29:55,  1.96s/it]"
          ]
        },
        {
          "output_type": "stream",
          "name": "stdout",
          "text": [
            "Timeout occurred for game_id 0022400053. Retrying 1/3...\n"
          ]
        },
        {
          "output_type": "stream",
          "name": "stderr",
          "text": [
            "Processing games for 2024-25:  26%|██▋       | 324/1230 [50:13<25:20,  1.68s/it]"
          ]
        },
        {
          "output_type": "stream",
          "name": "stdout",
          "text": [
            "Saved 2622 rows to BigQuery.\n"
          ]
        },
        {
          "output_type": "stream",
          "name": "stderr",
          "text": [
            "Processing games for 2024-25:  27%|██▋       | 338/1230 [50:30<02:54,  5.12it/s]"
          ]
        },
        {
          "output_type": "stream",
          "name": "stdout",
          "text": [
            "Timeout occurred for game_id 0022400337. Retrying 1/3...\n",
            "Timeout occurred for game_id 0022400337. Retrying 2/3...\n",
            "Timeout occurred for game_id 0022400337. Retrying 3/3...\n"
          ]
        },
        {
          "output_type": "stream",
          "name": "stderr",
          "text": [
            "\rProcessing games for 2024-25:  28%|██▊       | 339/1230 [51:59<4:38:39, 18.77s/it]"
          ]
        },
        {
          "output_type": "stream",
          "name": "stdout",
          "text": [
            "Failed to fetch data for game_id 0022400337 after 3 retries.\n",
            "Timeout occurred for game_id 0022400345. Retrying 1/3...\n",
            "Timeout occurred for game_id 0022400345. Retrying 2/3...\n",
            "Timeout occurred for game_id 0022400345. Retrying 3/3...\n"
          ]
        },
        {
          "output_type": "stream",
          "name": "stderr",
          "text": [
            "\rProcessing games for 2024-25:  28%|██▊       | 340/1230 [53:44<8:57:02, 36.21s/it]"
          ]
        },
        {
          "output_type": "stream",
          "name": "stdout",
          "text": [
            "Failed to fetch data for game_id 0022400345 after 3 retries.\n",
            "Timeout occurred for game_id 0022400340. Retrying 1/3...\n",
            "Timeout occurred for game_id 0022400340. Retrying 2/3...\n",
            "Timeout occurred for game_id 0022400340. Retrying 3/3...\n"
          ]
        },
        {
          "output_type": "stream",
          "name": "stderr",
          "text": [
            "\rProcessing games for 2024-25:  28%|██▊       | 341/1230 [55:29<12:45:04, 51.64s/it]"
          ]
        },
        {
          "output_type": "stream",
          "name": "stdout",
          "text": [
            "Failed to fetch data for game_id 0022400340 after 3 retries.\n",
            "Timeout occurred for game_id 0022400342. Retrying 1/3...\n",
            "Timeout occurred for game_id 0022400342. Retrying 2/3...\n"
          ]
        },
        {
          "output_type": "stream",
          "name": "stderr",
          "text": [
            "Processing games for 2024-25:  29%|██▉       | 356/1230 [57:00<43:49,  3.01s/it]"
          ]
        },
        {
          "output_type": "stream",
          "name": "stdout",
          "text": [
            "Timeout occurred for game_id 0022400357. Retrying 1/3...\n",
            "Timeout occurred for game_id 0022400357. Retrying 2/3...\n"
          ]
        },
        {
          "output_type": "stream",
          "name": "stderr",
          "text": [
            "Processing games for 2024-25:  30%|███       | 371/1230 [58:10<15:53,  1.11s/it]"
          ]
        },
        {
          "output_type": "stream",
          "name": "stdout",
          "text": [
            "Timeout occurred for game_id 0022401209. Retrying 1/3...\n",
            "Timeout occurred for game_id 0022401209. Retrying 2/3...\n",
            "Timeout occurred for game_id 0022401209. Retrying 3/3...\n"
          ]
        },
        {
          "output_type": "stream",
          "name": "stderr",
          "text": [
            "Processing games for 2024-25:  30%|███       | 373/1230 [59:37<3:44:32, 15.72s/it]"
          ]
        },
        {
          "output_type": "stream",
          "name": "stdout",
          "text": [
            "Failed to fetch data for game_id 0022401209 after 3 retries.\n"
          ]
        },
        {
          "output_type": "stream",
          "name": "stderr",
          "text": [
            "Processing games for 2024-25:  31%|███▏      | 387/1230 [59:50<14:28,  1.03s/it]"
          ]
        },
        {
          "output_type": "stream",
          "name": "stdout",
          "text": [
            "Timeout occurred for game_id 0022401221. Retrying 1/3...\n",
            "Timeout occurred for game_id 0022401221. Retrying 2/3...\n",
            "Timeout occurred for game_id 0022401221. Retrying 3/3...\n"
          ]
        },
        {
          "output_type": "stream",
          "name": "stderr",
          "text": [
            "\rProcessing games for 2024-25:  32%|███▏      | 388/1230 [1:01:23<4:36:56, 19.73s/it]"
          ]
        },
        {
          "output_type": "stream",
          "name": "stdout",
          "text": [
            "Failed to fetch data for game_id 0022401221 after 3 retries.\n",
            "Timeout occurred for game_id 0022401222. Retrying 1/3...\n"
          ]
        },
        {
          "output_type": "stream",
          "name": "stderr",
          "text": [
            "Processing games for 2024-25:  33%|███▎      | 403/1230 [1:02:10<20:35,  1.49s/it]"
          ]
        },
        {
          "output_type": "stream",
          "name": "stdout",
          "text": [
            "Timeout occurred for game_id 0022400375. Retrying 1/3...\n",
            "Timeout occurred for game_id 0022400375. Retrying 2/3...\n",
            "Timeout occurred for game_id 0022400375. Retrying 3/3...\n"
          ]
        },
        {
          "output_type": "stream",
          "name": "stderr",
          "text": [
            "\rProcessing games for 2024-25:  33%|███▎      | 404/1230 [1:03:44<4:37:04, 20.13s/it]"
          ]
        },
        {
          "output_type": "stream",
          "name": "stdout",
          "text": [
            "Failed to fetch data for game_id 0022400375 after 3 retries.\n",
            "Timeout occurred for game_id 0022400373. Retrying 1/3...\n",
            "Timeout occurred for game_id 0022400373. Retrying 2/3...\n",
            "Timeout occurred for game_id 0022400373. Retrying 3/3...\n"
          ]
        },
        {
          "output_type": "stream",
          "name": "stderr",
          "text": [
            "\rProcessing games for 2024-25:  33%|███▎      | 405/1230 [1:05:30<8:35:56, 37.52s/it]"
          ]
        },
        {
          "output_type": "stream",
          "name": "stdout",
          "text": [
            "Failed to fetch data for game_id 0022400373 after 3 retries.\n",
            "Timeout occurred for game_id 0022400378. Retrying 1/3...\n",
            "Timeout occurred for game_id 0022400378. Retrying 2/3...\n",
            "Timeout occurred for game_id 0022400378. Retrying 3/3...\n"
          ]
        },
        {
          "output_type": "stream",
          "name": "stderr",
          "text": [
            "\rProcessing games for 2024-25:  33%|███▎      | 406/1230 [1:07:15<12:05:20, 52.82s/it]"
          ]
        },
        {
          "output_type": "stream",
          "name": "stdout",
          "text": [
            "Failed to fetch data for game_id 0022400378 after 3 retries.\n",
            "Timeout occurred for game_id 0022400381. Retrying 1/3...\n",
            "Timeout occurred for game_id 0022400381. Retrying 2/3...\n"
          ]
        },
        {
          "output_type": "stream",
          "name": "stderr",
          "text": [
            "Processing games for 2024-25:  35%|███▍      | 425/1230 [1:08:40<20:15,  1.51s/it]"
          ]
        },
        {
          "output_type": "stream",
          "name": "stdout",
          "text": [
            "Timeout occurred for game_id 0022400403. Retrying 1/3...\n",
            "Timeout occurred for game_id 0022400403. Retrying 2/3...\n",
            "Timeout occurred for game_id 0022400403. Retrying 3/3...\n"
          ]
        },
        {
          "output_type": "stream",
          "name": "stderr",
          "text": [
            "\rProcessing games for 2024-25:  35%|███▍      | 427/1230 [1:10:12<3:48:16, 17.06s/it]"
          ]
        },
        {
          "output_type": "stream",
          "name": "stdout",
          "text": [
            "Failed to fetch data for game_id 0022400403 after 3 retries.\n",
            "Timeout occurred for game_id 0022400391. Retrying 1/3...\n"
          ]
        },
        {
          "output_type": "stream",
          "name": "stderr",
          "text": [
            "Processing games for 2024-25:  35%|███▌      | 434/1230 [1:10:51<1:27:07,  6.57s/it]"
          ]
        },
        {
          "output_type": "stream",
          "name": "stdout",
          "text": [
            "Saved 2624 rows to BigQuery.\n"
          ]
        },
        {
          "output_type": "stream",
          "name": "stderr",
          "text": [
            "Processing games for 2024-25:  36%|███▋      | 446/1230 [1:11:10<10:16,  1.27it/s]"
          ]
        },
        {
          "output_type": "stream",
          "name": "stdout",
          "text": [
            "Timeout occurred for game_id 0022400412. Retrying 1/3...\n",
            "Timeout occurred for game_id 0022400412. Retrying 2/3...\n"
          ]
        },
        {
          "output_type": "stream",
          "name": "stderr",
          "text": [
            "Processing games for 2024-25:  38%|███▊      | 462/1230 [1:12:20<12:34,  1.02it/s]"
          ]
        },
        {
          "output_type": "stream",
          "name": "stdout",
          "text": [
            "Timeout occurred for game_id 0022400429. Retrying 1/3...\n",
            "Timeout occurred for game_id 0022400429. Retrying 2/3...\n",
            "Timeout occurred for game_id 0022400429. Retrying 3/3...\n"
          ]
        },
        {
          "output_type": "stream",
          "name": "stderr",
          "text": [
            "\rProcessing games for 2024-25:  38%|███▊      | 463/1230 [1:13:48<4:07:48, 19.38s/it]"
          ]
        },
        {
          "output_type": "stream",
          "name": "stdout",
          "text": [
            "Failed to fetch data for game_id 0022400429 after 3 retries.\n",
            "Timeout occurred for game_id 0022400433. Retrying 1/3...\n",
            "Timeout occurred for game_id 0022400433. Retrying 2/3...\n",
            "Timeout occurred for game_id 0022400433. Retrying 3/3...\n"
          ]
        },
        {
          "output_type": "stream",
          "name": "stderr",
          "text": [
            "\rProcessing games for 2024-25:  38%|███▊      | 464/1230 [1:15:33<7:48:18, 36.68s/it]"
          ]
        },
        {
          "output_type": "stream",
          "name": "stdout",
          "text": [
            "Failed to fetch data for game_id 0022400433 after 3 retries.\n",
            "Timeout occurred for game_id 0022400428. Retrying 1/3...\n"
          ]
        },
        {
          "output_type": "stream",
          "name": "stderr",
          "text": [
            "Processing games for 2024-25:  39%|███▉      | 479/1230 [1:16:20<26:31,  2.12s/it]"
          ]
        },
        {
          "output_type": "stream",
          "name": "stdout",
          "text": [
            "Timeout occurred for game_id 0022400454. Retrying 1/3...\n",
            "Timeout occurred for game_id 0022400454. Retrying 2/3...\n",
            "Timeout occurred for game_id 0022400454. Retrying 3/3...\n"
          ]
        },
        {
          "output_type": "stream",
          "name": "stderr",
          "text": [
            "\rProcessing games for 2024-25:  39%|███▉      | 480/1230 [1:17:54<4:19:02, 20.72s/it]"
          ]
        },
        {
          "output_type": "stream",
          "name": "stdout",
          "text": [
            "Failed to fetch data for game_id 0022400454 after 3 retries.\n",
            "Timeout occurred for game_id 0022400451. Retrying 1/3...\n",
            "Timeout occurred for game_id 0022400451. Retrying 2/3...\n",
            "Timeout occurred for game_id 0022400451. Retrying 3/3...\n"
          ]
        },
        {
          "output_type": "stream",
          "name": "stderr",
          "text": [
            "Processing games for 2024-25:  39%|███▉      | 482/1230 [1:19:40<6:07:12, 29.46s/it]"
          ]
        },
        {
          "output_type": "stream",
          "name": "stdout",
          "text": [
            "Failed to fetch data for game_id 0022400451 after 3 retries.\n"
          ]
        },
        {
          "output_type": "stream",
          "name": "stderr",
          "text": [
            "Processing games for 2024-25:  41%|████      | 506/1230 [1:20:00<04:04,  2.96it/s]"
          ]
        },
        {
          "output_type": "stream",
          "name": "stdout",
          "text": [
            "Timeout occurred for game_id 0022400469. Retrying 1/3...\n",
            "Timeout occurred for game_id 0022400469. Retrying 2/3...\n"
          ]
        },
        {
          "output_type": "stream",
          "name": "stderr",
          "text": [
            "Processing games for 2024-25:  42%|████▏     | 521/1230 [1:21:10<11:13,  1.05it/s]"
          ]
        },
        {
          "output_type": "stream",
          "name": "stdout",
          "text": [
            "Timeout occurred for game_id 0022400490. Retrying 1/3...\n",
            "Timeout occurred for game_id 0022400490. Retrying 2/3...\n",
            "Timeout occurred for game_id 0022400490. Retrying 3/3...\n"
          ]
        },
        {
          "output_type": "stream",
          "name": "stderr",
          "text": [
            "\rProcessing games for 2024-25:  42%|████▏     | 522/1230 [1:22:38<3:50:37, 19.54s/it]"
          ]
        },
        {
          "output_type": "stream",
          "name": "stdout",
          "text": [
            "Failed to fetch data for game_id 0022400490 after 3 retries.\n",
            "Timeout occurred for game_id 0022400498. Retrying 1/3...\n",
            "Timeout occurred for game_id 0022400498. Retrying 2/3...\n",
            "Timeout occurred for game_id 0022400498. Retrying 3/3...\n"
          ]
        },
        {
          "output_type": "stream",
          "name": "stderr",
          "text": [
            "Processing games for 2024-25:  43%|████▎     | 524/1230 [1:24:23<5:37:16, 28.66s/it]"
          ]
        },
        {
          "output_type": "stream",
          "name": "stdout",
          "text": [
            "Failed to fetch data for game_id 0022400498 after 3 retries.\n"
          ]
        },
        {
          "output_type": "stream",
          "name": "stderr",
          "text": [
            "Processing games for 2024-25:  44%|████▎     | 538/1230 [1:24:28<24:23,  2.11s/it]"
          ]
        },
        {
          "output_type": "stream",
          "name": "stdout",
          "text": [
            "Saved 2645 rows to BigQuery.\n",
            "Timeout occurred for game_id 0022400509. Retrying 1/3...\n",
            "Timeout occurred for game_id 0022400509. Retrying 2/3...\n",
            "Timeout occurred for game_id 0022400509. Retrying 3/3...\n"
          ]
        },
        {
          "output_type": "stream",
          "name": "stderr",
          "text": [
            "\rProcessing games for 2024-25:  44%|████▍     | 539/1230 [1:26:13<4:40:21, 24.34s/it]"
          ]
        },
        {
          "output_type": "stream",
          "name": "stdout",
          "text": [
            "Failed to fetch data for game_id 0022400509 after 3 retries.\n",
            "Timeout occurred for game_id 0022400514. Retrying 1/3...\n"
          ]
        },
        {
          "output_type": "stream",
          "name": "stderr",
          "text": [
            "Processing games for 2024-25:  45%|████▌     | 554/1230 [1:27:00<16:56,  1.50s/it]"
          ]
        },
        {
          "output_type": "stream",
          "name": "stdout",
          "text": [
            "Timeout occurred for game_id 0022400527. Retrying 1/3...\n",
            "Timeout occurred for game_id 0022400527. Retrying 2/3...\n",
            "Timeout occurred for game_id 0022400527. Retrying 3/3...\n"
          ]
        },
        {
          "output_type": "stream",
          "name": "stderr",
          "text": [
            "\rProcessing games for 2024-25:  45%|████▌     | 555/1230 [1:28:34<3:47:56, 20.26s/it]"
          ]
        },
        {
          "output_type": "stream",
          "name": "stdout",
          "text": [
            "Failed to fetch data for game_id 0022400527 after 3 retries.\n",
            "Timeout occurred for game_id 0022400530. Retrying 1/3...\n",
            "Timeout occurred for game_id 0022400530. Retrying 2/3...\n",
            "Timeout occurred for game_id 0022400530. Retrying 3/3...\n"
          ]
        },
        {
          "output_type": "stream",
          "name": "stderr",
          "text": [
            "Processing games for 2024-25:  45%|████▌     | 557/1230 [1:30:20<5:27:32, 29.20s/it]"
          ]
        },
        {
          "output_type": "stream",
          "name": "stdout",
          "text": [
            "Failed to fetch data for game_id 0022400530 after 3 retries.\n"
          ]
        },
        {
          "output_type": "stream",
          "name": "stderr",
          "text": [
            "Processing games for 2024-25:  47%|████▋     | 580/1230 [1:30:22<02:39,  4.07it/s]"
          ]
        },
        {
          "output_type": "stream",
          "name": "stdout",
          "text": [
            "Timeout occurred for game_id 0022400554. Retrying 1/3...\n"
          ]
        },
        {
          "output_type": "stream",
          "name": "stderr",
          "text": [
            "Processing games for 2024-25:  48%|████▊     | 595/1230 [1:31:00<03:36,  2.93it/s]"
          ]
        },
        {
          "output_type": "stream",
          "name": "stdout",
          "text": [
            "Timeout occurred for game_id 0022400567. Retrying 1/3...\n",
            "Timeout occurred for game_id 0022400567. Retrying 2/3...\n",
            "Timeout occurred for game_id 0022400567. Retrying 3/3...\n"
          ]
        },
        {
          "output_type": "stream",
          "name": "stderr",
          "text": [
            "\rProcessing games for 2024-25:  48%|████▊     | 596/1230 [1:32:45<4:05:39, 23.25s/it]"
          ]
        },
        {
          "output_type": "stream",
          "name": "stdout",
          "text": [
            "Failed to fetch data for game_id 0022400567 after 3 retries.\n",
            "Timeout occurred for game_id 0022400569. Retrying 1/3...\n",
            "Timeout occurred for game_id 0022400569. Retrying 2/3...\n",
            "Timeout occurred for game_id 0022400569. Retrying 3/3...\n"
          ]
        },
        {
          "output_type": "stream",
          "name": "stderr",
          "text": [
            "\rProcessing games for 2024-25:  49%|████▊     | 597/1230 [1:34:30<7:31:04, 42.76s/it]"
          ]
        },
        {
          "output_type": "stream",
          "name": "stdout",
          "text": [
            "Failed to fetch data for game_id 0022400569 after 3 retries.\n"
          ]
        },
        {
          "output_type": "stream",
          "name": "stderr",
          "text": [
            "Processing games for 2024-25:  50%|█████     | 621/1230 [1:34:33<01:43,  5.90it/s]"
          ]
        },
        {
          "output_type": "stream",
          "name": "stdout",
          "text": [
            "Timeout occurred for game_id 0022400594. Retrying 1/3...\n",
            "Timeout occurred for game_id 0022400594. Retrying 2/3...\n",
            "Timeout occurred for game_id 0022400594. Retrying 3/3...\n"
          ]
        },
        {
          "output_type": "stream",
          "name": "stderr",
          "text": [
            "\rProcessing games for 2024-25:  51%|█████     | 622/1230 [1:36:19<4:15:19, 25.20s/it]"
          ]
        },
        {
          "output_type": "stream",
          "name": "stdout",
          "text": [
            "Failed to fetch data for game_id 0022400594 after 3 retries.\n",
            "Timeout occurred for game_id 0022400595. Retrying 1/3...\n",
            "Timeout occurred for game_id 0022400595. Retrying 2/3...\n",
            "Timeout occurred for game_id 0022400595. Retrying 3/3...\n"
          ]
        },
        {
          "output_type": "stream",
          "name": "stderr",
          "text": [
            "\rProcessing games for 2024-25:  51%|█████     | 623/1230 [1:38:04<7:40:33, 45.53s/it]"
          ]
        },
        {
          "output_type": "stream",
          "name": "stdout",
          "text": [
            "Failed to fetch data for game_id 0022400595 after 3 retries.\n"
          ]
        },
        {
          "output_type": "stream",
          "name": "stderr",
          "text": [
            "Processing games for 2024-25:  52%|█████▏    | 638/1230 [1:38:20<07:07,  1.38it/s]"
          ]
        },
        {
          "output_type": "stream",
          "name": "stdout",
          "text": [
            "Timeout occurred for game_id 0022400620. Retrying 1/3...\n",
            "Timeout occurred for game_id 0022400620. Retrying 2/3...\n",
            "Timeout occurred for game_id 0022400620. Retrying 3/3...\n"
          ]
        },
        {
          "output_type": "stream",
          "name": "stderr",
          "text": [
            "\rProcessing games for 2024-25:  52%|█████▏    | 639/1230 [1:39:51<3:35:23, 21.87s/it]"
          ]
        },
        {
          "output_type": "stream",
          "name": "stdout",
          "text": [
            "Failed to fetch data for game_id 0022400620 after 3 retries.\n",
            "Timeout occurred for game_id 0022400615. Retrying 1/3...\n",
            "Timeout occurred for game_id 0022400615. Retrying 2/3...\n",
            "Timeout occurred for game_id 0022400615. Retrying 3/3...\n"
          ]
        },
        {
          "output_type": "stream",
          "name": "stderr",
          "text": [
            "\rProcessing games for 2024-25:  52%|█████▏    | 640/1230 [1:41:36<6:38:55, 40.57s/it]"
          ]
        },
        {
          "output_type": "stream",
          "name": "stdout",
          "text": [
            "Failed to fetch data for game_id 0022400615 after 3 retries.\n",
            "Timeout occurred for game_id 0022400614. Retrying 1/3...\n",
            "Timeout occurred for game_id 0022400614. Retrying 2/3...\n",
            "Timeout occurred for game_id 0022400614. Retrying 3/3...\n"
          ]
        },
        {
          "output_type": "stream",
          "name": "stderr",
          "text": [
            "Processing games for 2024-25:  52%|█████▏    | 642/1230 [1:43:21<6:49:47, 41.82s/it]"
          ]
        },
        {
          "output_type": "stream",
          "name": "stdout",
          "text": [
            "Failed to fetch data for game_id 0022400614 after 3 retries.\n"
          ]
        },
        {
          "output_type": "stream",
          "name": "stderr",
          "text": [
            "Processing games for 2024-25:  53%|█████▎    | 649/1230 [1:43:26<46:26,  4.80s/it]  "
          ]
        },
        {
          "output_type": "stream",
          "name": "stdout",
          "text": [
            "Saved 2622 rows to BigQuery.\n"
          ]
        },
        {
          "output_type": "stream",
          "name": "stderr",
          "text": [
            "Processing games for 2024-25:  54%|█████▍    | 663/1230 [1:43:50<01:48,  5.21it/s]"
          ]
        },
        {
          "output_type": "stream",
          "name": "stdout",
          "text": [
            "Timeout occurred for game_id 0022400644. Retrying 1/3...\n",
            "Timeout occurred for game_id 0022400644. Retrying 2/3...\n",
            "Timeout occurred for game_id 0022400644. Retrying 3/3...\n"
          ]
        },
        {
          "output_type": "stream",
          "name": "stderr",
          "text": [
            "Processing games for 2024-25:  54%|█████▍    | 665/1230 [1:45:16<2:38:03, 16.78s/it]"
          ]
        },
        {
          "output_type": "stream",
          "name": "stdout",
          "text": [
            "Failed to fetch data for game_id 0022400644 after 3 retries.\n"
          ]
        },
        {
          "output_type": "stream",
          "name": "stderr",
          "text": [
            "Processing games for 2024-25:  55%|█████▌    | 679/1230 [1:45:17<09:26,  1.03s/it]"
          ]
        }
      ]
    },
    {
      "cell_type": "code",
      "source": [
        "# Query Relevant Table\n",
        "df_query = \"\"\"\n",
        "SELECT * FROM `fantasy-survivor-app.nba_data.game_log` limit 100\n",
        "\"\"\"\n",
        "\n",
        "df_job= client.query(\n",
        "df_query,\n",
        "location=\"northamerica-northeast1\",\n",
        ")\n",
        "df_raw = df_job.to_dataframe()"
      ],
      "metadata": {
        "id": "zCEGfk-65ya8",
        "executionInfo": {
          "status": "error",
          "timestamp": 1759113445638,
          "user_tz": 240,
          "elapsed": 759,
          "user": {
            "displayName": "",
            "userId": ""
          }
        },
        "colab": {
          "base_uri": "https://localhost:8080/",
          "height": 408
        },
        "outputId": "5c3c8554-635e-493c-c043-d66e684bdcc9"
      },
      "execution_count": null,
      "outputs": [
        {
          "output_type": "error",
          "ename": "NotFound",
          "evalue": "404 Not found: Table fantasy-survivor-app:nba_data.game_log was not found in location northamerica-northeast1; reason: notFound, message: Not found: Table fantasy-survivor-app:nba_data.game_log was not found in location northamerica-northeast1\n\nLocation: northamerica-northeast1\nJob ID: 982922b6-17b9-4fd8-a7c7-0de16877c10f\n",
          "traceback": [
            "\u001b[0;31m---------------------------------------------------------------------------\u001b[0m",
            "\u001b[0;31mNotFound\u001b[0m                                  Traceback (most recent call last)",
            "\u001b[0;32m<ipython-input-10-e60a1dc96c80>\u001b[0m in \u001b[0;36m<cell line: 10>\u001b[0;34m()\u001b[0m\n\u001b[1;32m      8\u001b[0m \u001b[0mlocation\u001b[0m\u001b[0;34m=\u001b[0m\u001b[0;34m\"northamerica-northeast1\"\u001b[0m\u001b[0;34m,\u001b[0m\u001b[0;34m\u001b[0m\u001b[0;34m\u001b[0m\u001b[0m\n\u001b[1;32m      9\u001b[0m )\n\u001b[0;32m---> 10\u001b[0;31m \u001b[0mdf_raw\u001b[0m \u001b[0;34m=\u001b[0m \u001b[0mdf_job\u001b[0m\u001b[0;34m.\u001b[0m\u001b[0mto_dataframe\u001b[0m\u001b[0;34m(\u001b[0m\u001b[0;34m)\u001b[0m\u001b[0;34m\u001b[0m\u001b[0;34m\u001b[0m\u001b[0m\n\u001b[0m",
            "\u001b[0;32m/usr/local/lib/python3.10/dist-packages/google/cloud/bigquery/job/query.py\u001b[0m in \u001b[0;36mto_dataframe\u001b[0;34m(self, bqstorage_client, dtypes, progress_bar_type, create_bqstorage_client, max_results, geography_as_object, bool_dtype, int_dtype, float_dtype, string_dtype, date_dtype, datetime_dtype, time_dtype, timestamp_dtype, range_date_dtype, range_datetime_dtype, range_timestamp_dtype)\u001b[0m\n\u001b[1;32m   2057\u001b[0m                 \u001b[0;34m:\u001b[0m\u001b[0mmod\u001b[0m\u001b[0;34m:\u001b[0m\u001b[0;31m`\u001b[0m\u001b[0mshapely\u001b[0m\u001b[0;31m`\u001b[0m \u001b[0mlibrary\u001b[0m \u001b[0mcannot\u001b[0m \u001b[0mbe\u001b[0m \u001b[0mimported\u001b[0m\u001b[0;34m.\u001b[0m\u001b[0;34m\u001b[0m\u001b[0;34m\u001b[0m\u001b[0m\n\u001b[1;32m   2058\u001b[0m         \"\"\"\n\u001b[0;32m-> 2059\u001b[0;31m         \u001b[0mquery_result\u001b[0m \u001b[0;34m=\u001b[0m \u001b[0mwait_for_query\u001b[0m\u001b[0;34m(\u001b[0m\u001b[0mself\u001b[0m\u001b[0;34m,\u001b[0m \u001b[0mprogress_bar_type\u001b[0m\u001b[0;34m,\u001b[0m \u001b[0mmax_results\u001b[0m\u001b[0;34m=\u001b[0m\u001b[0mmax_results\u001b[0m\u001b[0;34m)\u001b[0m\u001b[0;34m\u001b[0m\u001b[0;34m\u001b[0m\u001b[0m\n\u001b[0m\u001b[1;32m   2060\u001b[0m         return query_result.to_dataframe(\n\u001b[1;32m   2061\u001b[0m             \u001b[0mbqstorage_client\u001b[0m\u001b[0;34m=\u001b[0m\u001b[0mbqstorage_client\u001b[0m\u001b[0;34m,\u001b[0m\u001b[0;34m\u001b[0m\u001b[0;34m\u001b[0m\u001b[0m\n",
            "\u001b[0;32m/usr/local/lib/python3.10/dist-packages/google/cloud/bigquery/_tqdm_helpers.py\u001b[0m in \u001b[0;36mwait_for_query\u001b[0;34m(query_job, progress_bar_type, max_results)\u001b[0m\n\u001b[1;32m    105\u001b[0m     )\n\u001b[1;32m    106\u001b[0m     \u001b[0;32mif\u001b[0m \u001b[0mprogress_bar\u001b[0m \u001b[0;32mis\u001b[0m \u001b[0;32mNone\u001b[0m\u001b[0;34m:\u001b[0m\u001b[0;34m\u001b[0m\u001b[0;34m\u001b[0m\u001b[0m\n\u001b[0;32m--> 107\u001b[0;31m         \u001b[0;32mreturn\u001b[0m \u001b[0mquery_job\u001b[0m\u001b[0;34m.\u001b[0m\u001b[0mresult\u001b[0m\u001b[0;34m(\u001b[0m\u001b[0mmax_results\u001b[0m\u001b[0;34m=\u001b[0m\u001b[0mmax_results\u001b[0m\u001b[0;34m)\u001b[0m\u001b[0;34m\u001b[0m\u001b[0;34m\u001b[0m\u001b[0m\n\u001b[0m\u001b[1;32m    108\u001b[0m \u001b[0;34m\u001b[0m\u001b[0m\n\u001b[1;32m    109\u001b[0m     \u001b[0mi\u001b[0m \u001b[0;34m=\u001b[0m \u001b[0;36m0\u001b[0m\u001b[0;34m\u001b[0m\u001b[0;34m\u001b[0m\u001b[0m\n",
            "\u001b[0;32m/usr/local/lib/python3.10/dist-packages/google/cloud/bigquery/job/query.py\u001b[0m in \u001b[0;36mresult\u001b[0;34m(self, page_size, max_results, retry, timeout, start_index, job_retry)\u001b[0m\n\u001b[1;32m   1679\u001b[0m                 \u001b[0;31m# Since is_job_done() calls jobs.getQueryResults, which is a\u001b[0m\u001b[0;34m\u001b[0m\u001b[0;34m\u001b[0m\u001b[0m\n\u001b[1;32m   1680\u001b[0m                 \u001b[0;31m# long-running API, don't delay the next request at all.\u001b[0m\u001b[0;34m\u001b[0m\u001b[0;34m\u001b[0m\u001b[0m\n\u001b[0;32m-> 1681\u001b[0;31m                 \u001b[0;32mwhile\u001b[0m \u001b[0;32mnot\u001b[0m \u001b[0mis_job_done\u001b[0m\u001b[0;34m(\u001b[0m\u001b[0;34m)\u001b[0m\u001b[0;34m:\u001b[0m\u001b[0;34m\u001b[0m\u001b[0;34m\u001b[0m\u001b[0m\n\u001b[0m\u001b[1;32m   1682\u001b[0m                     \u001b[0;32mpass\u001b[0m\u001b[0;34m\u001b[0m\u001b[0;34m\u001b[0m\u001b[0m\n\u001b[1;32m   1683\u001b[0m             \u001b[0;32melse\u001b[0m\u001b[0;34m:\u001b[0m\u001b[0;34m\u001b[0m\u001b[0;34m\u001b[0m\u001b[0m\n",
            "\u001b[0;32m/usr/local/lib/python3.10/dist-packages/google/api_core/retry/retry_unary.py\u001b[0m in \u001b[0;36mretry_wrapped_func\u001b[0;34m(*args, **kwargs)\u001b[0m\n\u001b[1;32m    292\u001b[0m                 \u001b[0mself\u001b[0m\u001b[0;34m.\u001b[0m\u001b[0m_initial\u001b[0m\u001b[0;34m,\u001b[0m \u001b[0mself\u001b[0m\u001b[0;34m.\u001b[0m\u001b[0m_maximum\u001b[0m\u001b[0;34m,\u001b[0m \u001b[0mmultiplier\u001b[0m\u001b[0;34m=\u001b[0m\u001b[0mself\u001b[0m\u001b[0;34m.\u001b[0m\u001b[0m_multiplier\u001b[0m\u001b[0;34m\u001b[0m\u001b[0;34m\u001b[0m\u001b[0m\n\u001b[1;32m    293\u001b[0m             )\n\u001b[0;32m--> 294\u001b[0;31m             return retry_target(\n\u001b[0m\u001b[1;32m    295\u001b[0m                 \u001b[0mtarget\u001b[0m\u001b[0;34m,\u001b[0m\u001b[0;34m\u001b[0m\u001b[0;34m\u001b[0m\u001b[0m\n\u001b[1;32m    296\u001b[0m                 \u001b[0mself\u001b[0m\u001b[0;34m.\u001b[0m\u001b[0m_predicate\u001b[0m\u001b[0;34m,\u001b[0m\u001b[0;34m\u001b[0m\u001b[0;34m\u001b[0m\u001b[0m\n",
            "\u001b[0;32m/usr/local/lib/python3.10/dist-packages/google/api_core/retry/retry_unary.py\u001b[0m in \u001b[0;36mretry_target\u001b[0;34m(target, predicate, sleep_generator, timeout, on_error, exception_factory, **kwargs)\u001b[0m\n\u001b[1;32m    154\u001b[0m         \u001b[0;32mexcept\u001b[0m \u001b[0mException\u001b[0m \u001b[0;32mas\u001b[0m \u001b[0mexc\u001b[0m\u001b[0;34m:\u001b[0m\u001b[0;34m\u001b[0m\u001b[0;34m\u001b[0m\u001b[0m\n\u001b[1;32m    155\u001b[0m             \u001b[0;31m# defer to shared logic for handling errors\u001b[0m\u001b[0;34m\u001b[0m\u001b[0;34m\u001b[0m\u001b[0m\n\u001b[0;32m--> 156\u001b[0;31m             next_sleep = _retry_error_helper(\n\u001b[0m\u001b[1;32m    157\u001b[0m                 \u001b[0mexc\u001b[0m\u001b[0;34m,\u001b[0m\u001b[0;34m\u001b[0m\u001b[0;34m\u001b[0m\u001b[0m\n\u001b[1;32m    158\u001b[0m                 \u001b[0mdeadline\u001b[0m\u001b[0;34m,\u001b[0m\u001b[0;34m\u001b[0m\u001b[0;34m\u001b[0m\u001b[0m\n",
            "\u001b[0;32m/usr/local/lib/python3.10/dist-packages/google/api_core/retry/retry_base.py\u001b[0m in \u001b[0;36m_retry_error_helper\u001b[0;34m(exc, deadline, sleep_iterator, error_list, predicate_fn, on_error_fn, exc_factory_fn, original_timeout)\u001b[0m\n\u001b[1;32m    212\u001b[0m             \u001b[0moriginal_timeout\u001b[0m\u001b[0;34m,\u001b[0m\u001b[0;34m\u001b[0m\u001b[0;34m\u001b[0m\u001b[0m\n\u001b[1;32m    213\u001b[0m         )\n\u001b[0;32m--> 214\u001b[0;31m         \u001b[0;32mraise\u001b[0m \u001b[0mfinal_exc\u001b[0m \u001b[0;32mfrom\u001b[0m \u001b[0msource_exc\u001b[0m\u001b[0;34m\u001b[0m\u001b[0;34m\u001b[0m\u001b[0m\n\u001b[0m\u001b[1;32m    215\u001b[0m     \u001b[0;32mif\u001b[0m \u001b[0mon_error_fn\u001b[0m \u001b[0;32mis\u001b[0m \u001b[0;32mnot\u001b[0m \u001b[0;32mNone\u001b[0m\u001b[0;34m:\u001b[0m\u001b[0;34m\u001b[0m\u001b[0;34m\u001b[0m\u001b[0m\n\u001b[1;32m    216\u001b[0m         \u001b[0mon_error_fn\u001b[0m\u001b[0;34m(\u001b[0m\u001b[0mexc\u001b[0m\u001b[0;34m)\u001b[0m\u001b[0;34m\u001b[0m\u001b[0;34m\u001b[0m\u001b[0m\n",
            "\u001b[0;32m/usr/local/lib/python3.10/dist-packages/google/api_core/retry/retry_unary.py\u001b[0m in \u001b[0;36mretry_target\u001b[0;34m(target, predicate, sleep_generator, timeout, on_error, exception_factory, **kwargs)\u001b[0m\n\u001b[1;32m    145\u001b[0m     \u001b[0;32mwhile\u001b[0m \u001b[0;32mTrue\u001b[0m\u001b[0;34m:\u001b[0m\u001b[0;34m\u001b[0m\u001b[0;34m\u001b[0m\u001b[0m\n\u001b[1;32m    146\u001b[0m         \u001b[0;32mtry\u001b[0m\u001b[0;34m:\u001b[0m\u001b[0;34m\u001b[0m\u001b[0;34m\u001b[0m\u001b[0m\n\u001b[0;32m--> 147\u001b[0;31m             \u001b[0mresult\u001b[0m \u001b[0;34m=\u001b[0m \u001b[0mtarget\u001b[0m\u001b[0;34m(\u001b[0m\u001b[0;34m)\u001b[0m\u001b[0;34m\u001b[0m\u001b[0;34m\u001b[0m\u001b[0m\n\u001b[0m\u001b[1;32m    148\u001b[0m             \u001b[0;32mif\u001b[0m \u001b[0minspect\u001b[0m\u001b[0;34m.\u001b[0m\u001b[0misawaitable\u001b[0m\u001b[0;34m(\u001b[0m\u001b[0mresult\u001b[0m\u001b[0;34m)\u001b[0m\u001b[0;34m:\u001b[0m\u001b[0;34m\u001b[0m\u001b[0;34m\u001b[0m\u001b[0m\n\u001b[1;32m    149\u001b[0m                 \u001b[0mwarnings\u001b[0m\u001b[0;34m.\u001b[0m\u001b[0mwarn\u001b[0m\u001b[0;34m(\u001b[0m\u001b[0m_ASYNC_RETRY_WARNING\u001b[0m\u001b[0;34m)\u001b[0m\u001b[0;34m\u001b[0m\u001b[0;34m\u001b[0m\u001b[0m\n",
            "\u001b[0;32m/usr/local/lib/python3.10/dist-packages/google/cloud/bigquery/job/query.py\u001b[0m in \u001b[0;36mis_job_done\u001b[0;34m()\u001b[0m\n\u001b[1;32m   1628\u001b[0m                         \u001b[0;31m# `job_retry` predicate.\u001b[0m\u001b[0;34m\u001b[0m\u001b[0;34m\u001b[0m\u001b[0m\n\u001b[1;32m   1629\u001b[0m                         \u001b[0mrestart_query_job\u001b[0m \u001b[0;34m=\u001b[0m \u001b[0;32mTrue\u001b[0m\u001b[0;34m\u001b[0m\u001b[0;34m\u001b[0m\u001b[0m\n\u001b[0;32m-> 1630\u001b[0;31m                         \u001b[0;32mraise\u001b[0m \u001b[0mjob_failed_exception\u001b[0m\u001b[0;34m\u001b[0m\u001b[0;34m\u001b[0m\u001b[0m\n\u001b[0m\u001b[1;32m   1631\u001b[0m                     \u001b[0;32melse\u001b[0m\u001b[0;34m:\u001b[0m\u001b[0;34m\u001b[0m\u001b[0;34m\u001b[0m\u001b[0m\n\u001b[1;32m   1632\u001b[0m                         \u001b[0;31m# Make sure that the _query_results are cached so we\u001b[0m\u001b[0;34m\u001b[0m\u001b[0;34m\u001b[0m\u001b[0m\n",
            "\u001b[0;31mNotFound\u001b[0m: 404 Not found: Table fantasy-survivor-app:nba_data.game_log was not found in location northamerica-northeast1; reason: notFound, message: Not found: Table fantasy-survivor-app:nba_data.game_log was not found in location northamerica-northeast1\n\nLocation: northamerica-northeast1\nJob ID: 982922b6-17b9-4fd8-a7c7-0de16877c10f\n"
          ]
        }
      ]
    },
    {
      "cell_type": "code",
      "source": [
        "df_raw.head()"
      ],
      "metadata": {
        "id": "mucS6BRw5Iic",
        "executionInfo": {
          "status": "ok",
          "timestamp": 1759110505922,
          "user_tz": 240,
          "elapsed": 2,
          "user": {
            "displayName": "",
            "userId": ""
          }
        },
        "outputId": "2195f0f7-10ed-4107-c9b6-5d2d02f7c65b",
        "colab": {
          "base_uri": "https://localhost:8080/",
          "height": 429
        }
      },
      "execution_count": null,
      "outputs": [
        {
          "output_type": "execute_result",
          "data": {
            "text/plain": [
              "    game_id     team_id team_abbreviation  player_id player_name  \\\n",
              "0  22300015  1610612756               PHX    1629626     Bol Bol   \n",
              "1  22300185  1610612756               PHX    1629626     Bol Bol   \n",
              "2  22300197  1610612756               PHX    1629626     Bol Bol   \n",
              "3  22300035  1610612756               PHX    1629626     Bol Bol   \n",
              "4  22300214  1610612756               PHX    1629626     Bol Bol   \n",
              "\n",
              "  start_position                 comment  minute  fg_made  fg_attempts  ...  \\\n",
              "0                 DNP - Coach's Decision     NaN     <NA>         <NA>  ...   \n",
              "1                 DNP - Coach's Decision     NaN     <NA>         <NA>  ...   \n",
              "2                 DNP - Coach's Decision     NaN     <NA>         <NA>  ...   \n",
              "3                 DNP - Coach's Decision     NaN     <NA>         <NA>  ...   \n",
              "4                 DNP - Coach's Decision     NaN     <NA>         <NA>  ...   \n",
              "\n",
              "   assists  steals  blocks  turnovers  personal_fouls  points  plus_minus  \\\n",
              "0     <NA>    <NA>    <NA>       <NA>            <NA>    <NA>         NaN   \n",
              "1     <NA>    <NA>    <NA>       <NA>            <NA>    <NA>         NaN   \n",
              "2     <NA>    <NA>    <NA>       <NA>            <NA>    <NA>         NaN   \n",
              "3     <NA>    <NA>    <NA>       <NA>            <NA>    <NA>         NaN   \n",
              "4     <NA>    <NA>    <NA>       <NA>            <NA>    <NA>         NaN   \n",
              "\n",
              "   double_double  triple_double   season  \n",
              "0          False          False  2023-24  \n",
              "1          False          False  2023-24  \n",
              "2          False          False  2023-24  \n",
              "3          False          False  2023-24  \n",
              "4          False          False  2023-24  \n",
              "\n",
              "[5 rows x 30 columns]"
            ],
            "text/html": [
              "\n",
              "  <div id=\"df-c2c509c4-c819-422f-a741-a989ee2dd47e\" class=\"colab-df-container\">\n",
              "    <div>\n",
              "<style scoped>\n",
              "    .dataframe tbody tr th:only-of-type {\n",
              "        vertical-align: middle;\n",
              "    }\n",
              "\n",
              "    .dataframe tbody tr th {\n",
              "        vertical-align: top;\n",
              "    }\n",
              "\n",
              "    .dataframe thead th {\n",
              "        text-align: right;\n",
              "    }\n",
              "</style>\n",
              "<table border=\"1\" class=\"dataframe\">\n",
              "  <thead>\n",
              "    <tr style=\"text-align: right;\">\n",
              "      <th></th>\n",
              "      <th>game_id</th>\n",
              "      <th>team_id</th>\n",
              "      <th>team_abbreviation</th>\n",
              "      <th>player_id</th>\n",
              "      <th>player_name</th>\n",
              "      <th>start_position</th>\n",
              "      <th>comment</th>\n",
              "      <th>minute</th>\n",
              "      <th>fg_made</th>\n",
              "      <th>fg_attempts</th>\n",
              "      <th>...</th>\n",
              "      <th>assists</th>\n",
              "      <th>steals</th>\n",
              "      <th>blocks</th>\n",
              "      <th>turnovers</th>\n",
              "      <th>personal_fouls</th>\n",
              "      <th>points</th>\n",
              "      <th>plus_minus</th>\n",
              "      <th>double_double</th>\n",
              "      <th>triple_double</th>\n",
              "      <th>season</th>\n",
              "    </tr>\n",
              "  </thead>\n",
              "  <tbody>\n",
              "    <tr>\n",
              "      <th>0</th>\n",
              "      <td>22300015</td>\n",
              "      <td>1610612756</td>\n",
              "      <td>PHX</td>\n",
              "      <td>1629626</td>\n",
              "      <td>Bol Bol</td>\n",
              "      <td></td>\n",
              "      <td>DNP - Coach's Decision</td>\n",
              "      <td>NaN</td>\n",
              "      <td>&lt;NA&gt;</td>\n",
              "      <td>&lt;NA&gt;</td>\n",
              "      <td>...</td>\n",
              "      <td>&lt;NA&gt;</td>\n",
              "      <td>&lt;NA&gt;</td>\n",
              "      <td>&lt;NA&gt;</td>\n",
              "      <td>&lt;NA&gt;</td>\n",
              "      <td>&lt;NA&gt;</td>\n",
              "      <td>&lt;NA&gt;</td>\n",
              "      <td>NaN</td>\n",
              "      <td>False</td>\n",
              "      <td>False</td>\n",
              "      <td>2023-24</td>\n",
              "    </tr>\n",
              "    <tr>\n",
              "      <th>1</th>\n",
              "      <td>22300185</td>\n",
              "      <td>1610612756</td>\n",
              "      <td>PHX</td>\n",
              "      <td>1629626</td>\n",
              "      <td>Bol Bol</td>\n",
              "      <td></td>\n",
              "      <td>DNP - Coach's Decision</td>\n",
              "      <td>NaN</td>\n",
              "      <td>&lt;NA&gt;</td>\n",
              "      <td>&lt;NA&gt;</td>\n",
              "      <td>...</td>\n",
              "      <td>&lt;NA&gt;</td>\n",
              "      <td>&lt;NA&gt;</td>\n",
              "      <td>&lt;NA&gt;</td>\n",
              "      <td>&lt;NA&gt;</td>\n",
              "      <td>&lt;NA&gt;</td>\n",
              "      <td>&lt;NA&gt;</td>\n",
              "      <td>NaN</td>\n",
              "      <td>False</td>\n",
              "      <td>False</td>\n",
              "      <td>2023-24</td>\n",
              "    </tr>\n",
              "    <tr>\n",
              "      <th>2</th>\n",
              "      <td>22300197</td>\n",
              "      <td>1610612756</td>\n",
              "      <td>PHX</td>\n",
              "      <td>1629626</td>\n",
              "      <td>Bol Bol</td>\n",
              "      <td></td>\n",
              "      <td>DNP - Coach's Decision</td>\n",
              "      <td>NaN</td>\n",
              "      <td>&lt;NA&gt;</td>\n",
              "      <td>&lt;NA&gt;</td>\n",
              "      <td>...</td>\n",
              "      <td>&lt;NA&gt;</td>\n",
              "      <td>&lt;NA&gt;</td>\n",
              "      <td>&lt;NA&gt;</td>\n",
              "      <td>&lt;NA&gt;</td>\n",
              "      <td>&lt;NA&gt;</td>\n",
              "      <td>&lt;NA&gt;</td>\n",
              "      <td>NaN</td>\n",
              "      <td>False</td>\n",
              "      <td>False</td>\n",
              "      <td>2023-24</td>\n",
              "    </tr>\n",
              "    <tr>\n",
              "      <th>3</th>\n",
              "      <td>22300035</td>\n",
              "      <td>1610612756</td>\n",
              "      <td>PHX</td>\n",
              "      <td>1629626</td>\n",
              "      <td>Bol Bol</td>\n",
              "      <td></td>\n",
              "      <td>DNP - Coach's Decision</td>\n",
              "      <td>NaN</td>\n",
              "      <td>&lt;NA&gt;</td>\n",
              "      <td>&lt;NA&gt;</td>\n",
              "      <td>...</td>\n",
              "      <td>&lt;NA&gt;</td>\n",
              "      <td>&lt;NA&gt;</td>\n",
              "      <td>&lt;NA&gt;</td>\n",
              "      <td>&lt;NA&gt;</td>\n",
              "      <td>&lt;NA&gt;</td>\n",
              "      <td>&lt;NA&gt;</td>\n",
              "      <td>NaN</td>\n",
              "      <td>False</td>\n",
              "      <td>False</td>\n",
              "      <td>2023-24</td>\n",
              "    </tr>\n",
              "    <tr>\n",
              "      <th>4</th>\n",
              "      <td>22300214</td>\n",
              "      <td>1610612756</td>\n",
              "      <td>PHX</td>\n",
              "      <td>1629626</td>\n",
              "      <td>Bol Bol</td>\n",
              "      <td></td>\n",
              "      <td>DNP - Coach's Decision</td>\n",
              "      <td>NaN</td>\n",
              "      <td>&lt;NA&gt;</td>\n",
              "      <td>&lt;NA&gt;</td>\n",
              "      <td>...</td>\n",
              "      <td>&lt;NA&gt;</td>\n",
              "      <td>&lt;NA&gt;</td>\n",
              "      <td>&lt;NA&gt;</td>\n",
              "      <td>&lt;NA&gt;</td>\n",
              "      <td>&lt;NA&gt;</td>\n",
              "      <td>&lt;NA&gt;</td>\n",
              "      <td>NaN</td>\n",
              "      <td>False</td>\n",
              "      <td>False</td>\n",
              "      <td>2023-24</td>\n",
              "    </tr>\n",
              "  </tbody>\n",
              "</table>\n",
              "<p>5 rows × 30 columns</p>\n",
              "</div>\n",
              "    <div class=\"colab-df-buttons\">\n",
              "\n",
              "  <div class=\"colab-df-container\">\n",
              "    <button class=\"colab-df-convert\" onclick=\"convertToInteractive('df-c2c509c4-c819-422f-a741-a989ee2dd47e')\"\n",
              "            title=\"Convert this dataframe to an interactive table.\"\n",
              "            style=\"display:none;\">\n",
              "\n",
              "  <svg xmlns=\"http://www.w3.org/2000/svg\" height=\"24px\" viewBox=\"0 -960 960 960\">\n",
              "    <path d=\"M120-120v-720h720v720H120Zm60-500h600v-160H180v160Zm220 220h160v-160H400v160Zm0 220h160v-160H400v160ZM180-400h160v-160H180v160Zm440 0h160v-160H620v160ZM180-180h160v-160H180v160Zm440 0h160v-160H620v160Z\"/>\n",
              "  </svg>\n",
              "    </button>\n",
              "\n",
              "  <style>\n",
              "    .colab-df-container {\n",
              "      display:flex;\n",
              "      gap: 12px;\n",
              "    }\n",
              "\n",
              "    .colab-df-convert {\n",
              "      background-color: #E8F0FE;\n",
              "      border: none;\n",
              "      border-radius: 50%;\n",
              "      cursor: pointer;\n",
              "      display: none;\n",
              "      fill: #1967D2;\n",
              "      height: 32px;\n",
              "      padding: 0 0 0 0;\n",
              "      width: 32px;\n",
              "    }\n",
              "\n",
              "    .colab-df-convert:hover {\n",
              "      background-color: #E2EBFA;\n",
              "      box-shadow: 0px 1px 2px rgba(60, 64, 67, 0.3), 0px 1px 3px 1px rgba(60, 64, 67, 0.15);\n",
              "      fill: #174EA6;\n",
              "    }\n",
              "\n",
              "    .colab-df-buttons div {\n",
              "      margin-bottom: 4px;\n",
              "    }\n",
              "\n",
              "    [theme=dark] .colab-df-convert {\n",
              "      background-color: #3B4455;\n",
              "      fill: #D2E3FC;\n",
              "    }\n",
              "\n",
              "    [theme=dark] .colab-df-convert:hover {\n",
              "      background-color: #434B5C;\n",
              "      box-shadow: 0px 1px 3px 1px rgba(0, 0, 0, 0.15);\n",
              "      filter: drop-shadow(0px 1px 2px rgba(0, 0, 0, 0.3));\n",
              "      fill: #FFFFFF;\n",
              "    }\n",
              "  </style>\n",
              "\n",
              "    <script>\n",
              "      const buttonEl =\n",
              "        document.querySelector('#df-c2c509c4-c819-422f-a741-a989ee2dd47e button.colab-df-convert');\n",
              "      buttonEl.style.display =\n",
              "        google.colab.kernel.accessAllowed ? 'block' : 'none';\n",
              "\n",
              "      async function convertToInteractive(key) {\n",
              "        const element = document.querySelector('#df-c2c509c4-c819-422f-a741-a989ee2dd47e');\n",
              "        const dataTable =\n",
              "          await google.colab.kernel.invokeFunction('convertToInteractive',\n",
              "                                                    [key], {});\n",
              "        if (!dataTable) return;\n",
              "\n",
              "        const docLinkHtml = 'Like what you see? Visit the ' +\n",
              "          '<a target=\"_blank\" href=https://colab.research.google.com/notebooks/data_table.ipynb>data table notebook</a>'\n",
              "          + ' to learn more about interactive tables.';\n",
              "        element.innerHTML = '';\n",
              "        dataTable['output_type'] = 'display_data';\n",
              "        await google.colab.output.renderOutput(dataTable, element);\n",
              "        const docLink = document.createElement('div');\n",
              "        docLink.innerHTML = docLinkHtml;\n",
              "        element.appendChild(docLink);\n",
              "      }\n",
              "    </script>\n",
              "  </div>\n",
              "\n",
              "\n",
              "<div id=\"df-327a33c0-5d39-483c-9a78-6354983c5814\">\n",
              "  <button class=\"colab-df-quickchart\" onclick=\"quickchart('df-327a33c0-5d39-483c-9a78-6354983c5814')\"\n",
              "            title=\"Suggest charts\"\n",
              "            style=\"display:none;\">\n",
              "\n",
              "<svg xmlns=\"http://www.w3.org/2000/svg\" height=\"24px\"viewBox=\"0 0 24 24\"\n",
              "     width=\"24px\">\n",
              "    <g>\n",
              "        <path d=\"M19 3H5c-1.1 0-2 .9-2 2v14c0 1.1.9 2 2 2h14c1.1 0 2-.9 2-2V5c0-1.1-.9-2-2-2zM9 17H7v-7h2v7zm4 0h-2V7h2v10zm4 0h-2v-4h2v4z\"/>\n",
              "    </g>\n",
              "</svg>\n",
              "  </button>\n",
              "\n",
              "<style>\n",
              "  .colab-df-quickchart {\n",
              "      --bg-color: #E8F0FE;\n",
              "      --fill-color: #1967D2;\n",
              "      --hover-bg-color: #E2EBFA;\n",
              "      --hover-fill-color: #174EA6;\n",
              "      --disabled-fill-color: #AAA;\n",
              "      --disabled-bg-color: #DDD;\n",
              "  }\n",
              "\n",
              "  [theme=dark] .colab-df-quickchart {\n",
              "      --bg-color: #3B4455;\n",
              "      --fill-color: #D2E3FC;\n",
              "      --hover-bg-color: #434B5C;\n",
              "      --hover-fill-color: #FFFFFF;\n",
              "      --disabled-bg-color: #3B4455;\n",
              "      --disabled-fill-color: #666;\n",
              "  }\n",
              "\n",
              "  .colab-df-quickchart {\n",
              "    background-color: var(--bg-color);\n",
              "    border: none;\n",
              "    border-radius: 50%;\n",
              "    cursor: pointer;\n",
              "    display: none;\n",
              "    fill: var(--fill-color);\n",
              "    height: 32px;\n",
              "    padding: 0;\n",
              "    width: 32px;\n",
              "  }\n",
              "\n",
              "  .colab-df-quickchart:hover {\n",
              "    background-color: var(--hover-bg-color);\n",
              "    box-shadow: 0 1px 2px rgba(60, 64, 67, 0.3), 0 1px 3px 1px rgba(60, 64, 67, 0.15);\n",
              "    fill: var(--button-hover-fill-color);\n",
              "  }\n",
              "\n",
              "  .colab-df-quickchart-complete:disabled,\n",
              "  .colab-df-quickchart-complete:disabled:hover {\n",
              "    background-color: var(--disabled-bg-color);\n",
              "    fill: var(--disabled-fill-color);\n",
              "    box-shadow: none;\n",
              "  }\n",
              "\n",
              "  .colab-df-spinner {\n",
              "    border: 2px solid var(--fill-color);\n",
              "    border-color: transparent;\n",
              "    border-bottom-color: var(--fill-color);\n",
              "    animation:\n",
              "      spin 1s steps(1) infinite;\n",
              "  }\n",
              "\n",
              "  @keyframes spin {\n",
              "    0% {\n",
              "      border-color: transparent;\n",
              "      border-bottom-color: var(--fill-color);\n",
              "      border-left-color: var(--fill-color);\n",
              "    }\n",
              "    20% {\n",
              "      border-color: transparent;\n",
              "      border-left-color: var(--fill-color);\n",
              "      border-top-color: var(--fill-color);\n",
              "    }\n",
              "    30% {\n",
              "      border-color: transparent;\n",
              "      border-left-color: var(--fill-color);\n",
              "      border-top-color: var(--fill-color);\n",
              "      border-right-color: var(--fill-color);\n",
              "    }\n",
              "    40% {\n",
              "      border-color: transparent;\n",
              "      border-right-color: var(--fill-color);\n",
              "      border-top-color: var(--fill-color);\n",
              "    }\n",
              "    60% {\n",
              "      border-color: transparent;\n",
              "      border-right-color: var(--fill-color);\n",
              "    }\n",
              "    80% {\n",
              "      border-color: transparent;\n",
              "      border-right-color: var(--fill-color);\n",
              "      border-bottom-color: var(--fill-color);\n",
              "    }\n",
              "    90% {\n",
              "      border-color: transparent;\n",
              "      border-bottom-color: var(--fill-color);\n",
              "    }\n",
              "  }\n",
              "</style>\n",
              "\n",
              "  <script>\n",
              "    async function quickchart(key) {\n",
              "      const quickchartButtonEl =\n",
              "        document.querySelector('#' + key + ' button');\n",
              "      quickchartButtonEl.disabled = true;  // To prevent multiple clicks.\n",
              "      quickchartButtonEl.classList.add('colab-df-spinner');\n",
              "      try {\n",
              "        const charts = await google.colab.kernel.invokeFunction(\n",
              "            'suggestCharts', [key], {});\n",
              "      } catch (error) {\n",
              "        console.error('Error during call to suggestCharts:', error);\n",
              "      }\n",
              "      quickchartButtonEl.classList.remove('colab-df-spinner');\n",
              "      quickchartButtonEl.classList.add('colab-df-quickchart-complete');\n",
              "    }\n",
              "    (() => {\n",
              "      let quickchartButtonEl =\n",
              "        document.querySelector('#df-327a33c0-5d39-483c-9a78-6354983c5814 button');\n",
              "      quickchartButtonEl.style.display =\n",
              "        google.colab.kernel.accessAllowed ? 'block' : 'none';\n",
              "    })();\n",
              "  </script>\n",
              "</div>\n",
              "\n",
              "    </div>\n",
              "  </div>\n"
            ],
            "application/vnd.google.colaboratory.intrinsic+json": {
              "type": "dataframe",
              "variable_name": "df_raw"
            }
          },
          "metadata": {},
          "execution_count": 8
        }
      ]
    },
    {
      "cell_type": "code",
      "source": [
        "from nba_api.stats.endpoints import LeagueGameLog\n",
        "import pandas as pd\n",
        "import datetime\n",
        "import time\n",
        "from google.cloud import bigquery\n",
        "from requests.exceptions import ReadTimeout\n",
        "\n",
        "# Retry wrapper for single day pulls\n",
        "def safe_day_game_log(date_str, season, max_retries=3):\n",
        "    for attempt in range(max_retries):\n",
        "        try:\n",
        "            log = LeagueGameLog(\n",
        "                season=season,\n",
        "                season_type_all_star=\"Regular Season\",\n",
        "                player_or_team_abbreviation=\"T\",\n",
        "                date_from_nullable=date_str,\n",
        "                date_to_nullable=date_str,\n",
        "                timeout=10\n",
        "            )\n",
        "            return log.get_data_frames()[0]\n",
        "        except ReadTimeout:\n",
        "            print(f\"Timeout on {date_str}, retry {attempt+1}/{max_retries}\")\n",
        "            time.sleep(2 * (attempt + 1))\n",
        "    return pd.DataFrame()\n",
        "\n",
        "# Helper to generate all dates in a season range\n",
        "def generate_dates(start_date, end_date):\n",
        "    start = datetime.datetime.strptime(start_date, \"%Y-%m-%d\").date()\n",
        "    end = datetime.datetime.strptime(end_date, \"%Y-%m-%d\").date()\n",
        "    return [(start + datetime.timedelta(days=i)).strftime(\"%m/%d/%Y\")\n",
        "            for i in range((end - start).days + 1)]\n",
        "\n",
        "# Seasons and their date ranges\n",
        "season_ranges = {\n",
        "    \"2021-22\": (\"2021-10-01\", \"2022-06-30\"),\n",
        "    \"2022-23\": (\"2022-10-01\", \"2023-06-30\"),\n",
        "    \"2023-24\": (\"2023-10-01\", \"2024-06-30\"),\n",
        "}\n",
        "\n",
        "all_frames = []\n",
        "\n",
        "for season, (start, end) in season_ranges.items():\n",
        "    print(f\"Fetching {season}...\")\n",
        "    dates = generate_dates(start, end)\n",
        "    for d in dates:\n",
        "        df = safe_day_game_log(d, season)\n",
        "        if not df.empty:\n",
        "            df[\"GAME_DATE\"] = pd.to_datetime(df[\"GAME_DATE\"]).dt.date\n",
        "            df[\"SEASON\"] = season\n",
        "            all_frames.append(df[[\"GAME_ID\", \"GAME_DATE\", \"SEASON\"]].drop_duplicates())\n",
        "        time.sleep(0.5)  # be polite\n",
        "\n",
        "# Combine results\n",
        "game_date_map = pd.concat(all_frames, ignore_index=True)\n",
        "\n",
        "# Save locally (backup)\n",
        "game_date_map.to_csv(\"game_log_all.csv\", index=False)\n",
        "\n",
        "# Upload to BigQuery\n",
        "client = bigquery.Client()\n",
        "table_id = \"fantasy-survivor-app.nba_data.game_log\"\n",
        "\n",
        "job = client.load_table_from_dataframe(\n",
        "    game_date_map,\n",
        "    table_id,\n",
        "    job_config=bigquery.LoadJobConfig(write_disposition=\"WRITE_TRUNCATE\")\n",
        ")\n",
        "job.result()\n",
        "\n",
        "print(f\"Uploaded {len(game_date_map)} rows into {table_id}\")\n"
      ],
      "metadata": {
        "colab": {
          "base_uri": "https://localhost:8080/",
          "height": 773
        },
        "id": "C5DhpbNjKErn",
        "executionInfo": {
          "status": "error",
          "timestamp": 1759113897244,
          "user_tz": 240,
          "elapsed": 83837,
          "user": {
            "displayName": "",
            "userId": ""
          }
        },
        "outputId": "088ed2d9-4127-4329-e34c-3f81941ec523"
      },
      "execution_count": null,
      "outputs": [
        {
          "output_type": "stream",
          "name": "stdout",
          "text": [
            "Fetching 2021-22...\n",
            "Timeout on 10/01/2021, retry 1/3\n",
            "Timeout on 10/01/2021, retry 2/3\n",
            "Timeout on 10/01/2021, retry 3/3\n",
            "Timeout on 10/02/2021, retry 1/3\n",
            "Timeout on 10/02/2021, retry 2/3\n",
            "Timeout on 10/02/2021, retry 3/3\n"
          ]
        },
        {
          "output_type": "error",
          "ename": "KeyboardInterrupt",
          "evalue": "",
          "traceback": [
            "\u001b[0;31m---------------------------------------------------------------------------\u001b[0m",
            "\u001b[0;31mTimeoutError\u001b[0m                              Traceback (most recent call last)",
            "\u001b[0;32m/usr/local/lib/python3.10/dist-packages/urllib3/connectionpool.py\u001b[0m in \u001b[0;36m_make_request\u001b[0;34m(self, conn, method, url, body, headers, retries, timeout, chunked, response_conn, preload_content, decode_content, enforce_content_length)\u001b[0m\n\u001b[1;32m    533\u001b[0m         \u001b[0;32mtry\u001b[0m\u001b[0;34m:\u001b[0m\u001b[0;34m\u001b[0m\u001b[0;34m\u001b[0m\u001b[0m\n\u001b[0;32m--> 534\u001b[0;31m             \u001b[0mresponse\u001b[0m \u001b[0;34m=\u001b[0m \u001b[0mconn\u001b[0m\u001b[0;34m.\u001b[0m\u001b[0mgetresponse\u001b[0m\u001b[0;34m(\u001b[0m\u001b[0;34m)\u001b[0m\u001b[0;34m\u001b[0m\u001b[0;34m\u001b[0m\u001b[0m\n\u001b[0m\u001b[1;32m    535\u001b[0m         \u001b[0;32mexcept\u001b[0m \u001b[0;34m(\u001b[0m\u001b[0mBaseSSLError\u001b[0m\u001b[0;34m,\u001b[0m \u001b[0mOSError\u001b[0m\u001b[0;34m)\u001b[0m \u001b[0;32mas\u001b[0m \u001b[0me\u001b[0m\u001b[0;34m:\u001b[0m\u001b[0;34m\u001b[0m\u001b[0;34m\u001b[0m\u001b[0m\n",
            "\u001b[0;32m/usr/local/lib/python3.10/dist-packages/urllib3/connection.py\u001b[0m in \u001b[0;36mgetresponse\u001b[0;34m(self)\u001b[0m\n\u001b[1;32m    515\u001b[0m         \u001b[0;31m# Get the response from http.client.HTTPConnection\u001b[0m\u001b[0;34m\u001b[0m\u001b[0;34m\u001b[0m\u001b[0m\n\u001b[0;32m--> 516\u001b[0;31m         \u001b[0mhttplib_response\u001b[0m \u001b[0;34m=\u001b[0m \u001b[0msuper\u001b[0m\u001b[0;34m(\u001b[0m\u001b[0;34m)\u001b[0m\u001b[0;34m.\u001b[0m\u001b[0mgetresponse\u001b[0m\u001b[0;34m(\u001b[0m\u001b[0;34m)\u001b[0m\u001b[0;34m\u001b[0m\u001b[0;34m\u001b[0m\u001b[0m\n\u001b[0m\u001b[1;32m    517\u001b[0m \u001b[0;34m\u001b[0m\u001b[0m\n",
            "\u001b[0;32m/usr/lib/python3.10/http/client.py\u001b[0m in \u001b[0;36mgetresponse\u001b[0;34m(self)\u001b[0m\n\u001b[1;32m   1374\u001b[0m             \u001b[0;32mtry\u001b[0m\u001b[0;34m:\u001b[0m\u001b[0;34m\u001b[0m\u001b[0;34m\u001b[0m\u001b[0m\n\u001b[0;32m-> 1375\u001b[0;31m                 \u001b[0mresponse\u001b[0m\u001b[0;34m.\u001b[0m\u001b[0mbegin\u001b[0m\u001b[0;34m(\u001b[0m\u001b[0;34m)\u001b[0m\u001b[0;34m\u001b[0m\u001b[0;34m\u001b[0m\u001b[0m\n\u001b[0m\u001b[1;32m   1376\u001b[0m             \u001b[0;32mexcept\u001b[0m \u001b[0mConnectionError\u001b[0m\u001b[0;34m:\u001b[0m\u001b[0;34m\u001b[0m\u001b[0;34m\u001b[0m\u001b[0m\n",
            "\u001b[0;32m/usr/lib/python3.10/http/client.py\u001b[0m in \u001b[0;36mbegin\u001b[0;34m(self)\u001b[0m\n\u001b[1;32m    317\u001b[0m         \u001b[0;32mwhile\u001b[0m \u001b[0;32mTrue\u001b[0m\u001b[0;34m:\u001b[0m\u001b[0;34m\u001b[0m\u001b[0;34m\u001b[0m\u001b[0m\n\u001b[0;32m--> 318\u001b[0;31m             \u001b[0mversion\u001b[0m\u001b[0;34m,\u001b[0m \u001b[0mstatus\u001b[0m\u001b[0;34m,\u001b[0m \u001b[0mreason\u001b[0m \u001b[0;34m=\u001b[0m \u001b[0mself\u001b[0m\u001b[0;34m.\u001b[0m\u001b[0m_read_status\u001b[0m\u001b[0;34m(\u001b[0m\u001b[0;34m)\u001b[0m\u001b[0;34m\u001b[0m\u001b[0;34m\u001b[0m\u001b[0m\n\u001b[0m\u001b[1;32m    319\u001b[0m             \u001b[0;32mif\u001b[0m \u001b[0mstatus\u001b[0m \u001b[0;34m!=\u001b[0m \u001b[0mCONTINUE\u001b[0m\u001b[0;34m:\u001b[0m\u001b[0;34m\u001b[0m\u001b[0;34m\u001b[0m\u001b[0m\n",
            "\u001b[0;32m/usr/lib/python3.10/http/client.py\u001b[0m in \u001b[0;36m_read_status\u001b[0;34m(self)\u001b[0m\n\u001b[1;32m    278\u001b[0m     \u001b[0;32mdef\u001b[0m \u001b[0m_read_status\u001b[0m\u001b[0;34m(\u001b[0m\u001b[0mself\u001b[0m\u001b[0;34m)\u001b[0m\u001b[0;34m:\u001b[0m\u001b[0;34m\u001b[0m\u001b[0;34m\u001b[0m\u001b[0m\n\u001b[0;32m--> 279\u001b[0;31m         \u001b[0mline\u001b[0m \u001b[0;34m=\u001b[0m \u001b[0mstr\u001b[0m\u001b[0;34m(\u001b[0m\u001b[0mself\u001b[0m\u001b[0;34m.\u001b[0m\u001b[0mfp\u001b[0m\u001b[0;34m.\u001b[0m\u001b[0mreadline\u001b[0m\u001b[0;34m(\u001b[0m\u001b[0m_MAXLINE\u001b[0m \u001b[0;34m+\u001b[0m \u001b[0;36m1\u001b[0m\u001b[0;34m)\u001b[0m\u001b[0;34m,\u001b[0m \u001b[0;34m\"iso-8859-1\"\u001b[0m\u001b[0;34m)\u001b[0m\u001b[0;34m\u001b[0m\u001b[0;34m\u001b[0m\u001b[0m\n\u001b[0m\u001b[1;32m    280\u001b[0m         \u001b[0;32mif\u001b[0m \u001b[0mlen\u001b[0m\u001b[0;34m(\u001b[0m\u001b[0mline\u001b[0m\u001b[0;34m)\u001b[0m \u001b[0;34m>\u001b[0m \u001b[0m_MAXLINE\u001b[0m\u001b[0;34m:\u001b[0m\u001b[0;34m\u001b[0m\u001b[0;34m\u001b[0m\u001b[0m\n",
            "\u001b[0;32m/usr/lib/python3.10/socket.py\u001b[0m in \u001b[0;36mreadinto\u001b[0;34m(self, b)\u001b[0m\n\u001b[1;32m    704\u001b[0m             \u001b[0;32mtry\u001b[0m\u001b[0;34m:\u001b[0m\u001b[0;34m\u001b[0m\u001b[0;34m\u001b[0m\u001b[0m\n\u001b[0;32m--> 705\u001b[0;31m                 \u001b[0;32mreturn\u001b[0m \u001b[0mself\u001b[0m\u001b[0;34m.\u001b[0m\u001b[0m_sock\u001b[0m\u001b[0;34m.\u001b[0m\u001b[0mrecv_into\u001b[0m\u001b[0;34m(\u001b[0m\u001b[0mb\u001b[0m\u001b[0;34m)\u001b[0m\u001b[0;34m\u001b[0m\u001b[0;34m\u001b[0m\u001b[0m\n\u001b[0m\u001b[1;32m    706\u001b[0m             \u001b[0;32mexcept\u001b[0m \u001b[0mtimeout\u001b[0m\u001b[0;34m:\u001b[0m\u001b[0;34m\u001b[0m\u001b[0;34m\u001b[0m\u001b[0m\n",
            "\u001b[0;32m/usr/lib/python3.10/ssl.py\u001b[0m in \u001b[0;36mrecv_into\u001b[0;34m(self, buffer, nbytes, flags)\u001b[0m\n\u001b[1;32m   1302\u001b[0m                   self.__class__)\n\u001b[0;32m-> 1303\u001b[0;31m             \u001b[0;32mreturn\u001b[0m \u001b[0mself\u001b[0m\u001b[0;34m.\u001b[0m\u001b[0mread\u001b[0m\u001b[0;34m(\u001b[0m\u001b[0mnbytes\u001b[0m\u001b[0;34m,\u001b[0m \u001b[0mbuffer\u001b[0m\u001b[0;34m)\u001b[0m\u001b[0;34m\u001b[0m\u001b[0;34m\u001b[0m\u001b[0m\n\u001b[0m\u001b[1;32m   1304\u001b[0m         \u001b[0;32melse\u001b[0m\u001b[0;34m:\u001b[0m\u001b[0;34m\u001b[0m\u001b[0;34m\u001b[0m\u001b[0m\n",
            "\u001b[0;32m/usr/lib/python3.10/ssl.py\u001b[0m in \u001b[0;36mread\u001b[0;34m(self, len, buffer)\u001b[0m\n\u001b[1;32m   1158\u001b[0m             \u001b[0;32mif\u001b[0m \u001b[0mbuffer\u001b[0m \u001b[0;32mis\u001b[0m \u001b[0;32mnot\u001b[0m \u001b[0;32mNone\u001b[0m\u001b[0;34m:\u001b[0m\u001b[0;34m\u001b[0m\u001b[0;34m\u001b[0m\u001b[0m\n\u001b[0;32m-> 1159\u001b[0;31m                 \u001b[0;32mreturn\u001b[0m \u001b[0mself\u001b[0m\u001b[0;34m.\u001b[0m\u001b[0m_sslobj\u001b[0m\u001b[0;34m.\u001b[0m\u001b[0mread\u001b[0m\u001b[0;34m(\u001b[0m\u001b[0mlen\u001b[0m\u001b[0;34m,\u001b[0m \u001b[0mbuffer\u001b[0m\u001b[0;34m)\u001b[0m\u001b[0;34m\u001b[0m\u001b[0;34m\u001b[0m\u001b[0m\n\u001b[0m\u001b[1;32m   1160\u001b[0m             \u001b[0;32melse\u001b[0m\u001b[0;34m:\u001b[0m\u001b[0;34m\u001b[0m\u001b[0;34m\u001b[0m\u001b[0m\n",
            "\u001b[0;31mTimeoutError\u001b[0m: The read operation timed out",
            "\nThe above exception was the direct cause of the following exception:\n",
            "\u001b[0;31mReadTimeoutError\u001b[0m                          Traceback (most recent call last)",
            "\u001b[0;32m/usr/local/lib/python3.10/dist-packages/requests/adapters.py\u001b[0m in \u001b[0;36msend\u001b[0;34m(self, request, stream, timeout, verify, cert, proxies)\u001b[0m\n\u001b[1;32m    666\u001b[0m         \u001b[0;32mtry\u001b[0m\u001b[0;34m:\u001b[0m\u001b[0;34m\u001b[0m\u001b[0;34m\u001b[0m\u001b[0m\n\u001b[0;32m--> 667\u001b[0;31m             resp = conn.urlopen(\n\u001b[0m\u001b[1;32m    668\u001b[0m                 \u001b[0mmethod\u001b[0m\u001b[0;34m=\u001b[0m\u001b[0mrequest\u001b[0m\u001b[0;34m.\u001b[0m\u001b[0mmethod\u001b[0m\u001b[0;34m,\u001b[0m\u001b[0;34m\u001b[0m\u001b[0;34m\u001b[0m\u001b[0m\n",
            "\u001b[0;32m/usr/local/lib/python3.10/dist-packages/urllib3/connectionpool.py\u001b[0m in \u001b[0;36murlopen\u001b[0;34m(self, method, url, body, headers, retries, redirect, assert_same_host, timeout, pool_timeout, release_conn, chunked, body_pos, preload_content, decode_content, **response_kw)\u001b[0m\n\u001b[1;32m    840\u001b[0m \u001b[0;34m\u001b[0m\u001b[0m\n\u001b[0;32m--> 841\u001b[0;31m             retries = retries.increment(\n\u001b[0m\u001b[1;32m    842\u001b[0m                 \u001b[0mmethod\u001b[0m\u001b[0;34m,\u001b[0m \u001b[0murl\u001b[0m\u001b[0;34m,\u001b[0m \u001b[0merror\u001b[0m\u001b[0;34m=\u001b[0m\u001b[0mnew_e\u001b[0m\u001b[0;34m,\u001b[0m \u001b[0m_pool\u001b[0m\u001b[0;34m=\u001b[0m\u001b[0mself\u001b[0m\u001b[0;34m,\u001b[0m \u001b[0m_stacktrace\u001b[0m\u001b[0;34m=\u001b[0m\u001b[0msys\u001b[0m\u001b[0;34m.\u001b[0m\u001b[0mexc_info\u001b[0m\u001b[0;34m(\u001b[0m\u001b[0;34m)\u001b[0m\u001b[0;34m[\u001b[0m\u001b[0;36m2\u001b[0m\u001b[0;34m]\u001b[0m\u001b[0;34m\u001b[0m\u001b[0;34m\u001b[0m\u001b[0m\n",
            "\u001b[0;32m/usr/local/lib/python3.10/dist-packages/urllib3/util/retry.py\u001b[0m in \u001b[0;36mincrement\u001b[0;34m(self, method, url, response, error, _pool, _stacktrace)\u001b[0m\n\u001b[1;32m    473\u001b[0m             \u001b[0;32mif\u001b[0m \u001b[0mread\u001b[0m \u001b[0;32mis\u001b[0m \u001b[0;32mFalse\u001b[0m \u001b[0;32mor\u001b[0m \u001b[0mmethod\u001b[0m \u001b[0;32mis\u001b[0m \u001b[0;32mNone\u001b[0m \u001b[0;32mor\u001b[0m \u001b[0;32mnot\u001b[0m \u001b[0mself\u001b[0m\u001b[0;34m.\u001b[0m\u001b[0m_is_method_retryable\u001b[0m\u001b[0;34m(\u001b[0m\u001b[0mmethod\u001b[0m\u001b[0;34m)\u001b[0m\u001b[0;34m:\u001b[0m\u001b[0;34m\u001b[0m\u001b[0;34m\u001b[0m\u001b[0m\n\u001b[0;32m--> 474\u001b[0;31m                 \u001b[0;32mraise\u001b[0m \u001b[0mreraise\u001b[0m\u001b[0;34m(\u001b[0m\u001b[0mtype\u001b[0m\u001b[0;34m(\u001b[0m\u001b[0merror\u001b[0m\u001b[0;34m)\u001b[0m\u001b[0;34m,\u001b[0m \u001b[0merror\u001b[0m\u001b[0;34m,\u001b[0m \u001b[0m_stacktrace\u001b[0m\u001b[0;34m)\u001b[0m\u001b[0;34m\u001b[0m\u001b[0;34m\u001b[0m\u001b[0m\n\u001b[0m\u001b[1;32m    475\u001b[0m             \u001b[0;32melif\u001b[0m \u001b[0mread\u001b[0m \u001b[0;32mis\u001b[0m \u001b[0;32mnot\u001b[0m \u001b[0;32mNone\u001b[0m\u001b[0;34m:\u001b[0m\u001b[0;34m\u001b[0m\u001b[0;34m\u001b[0m\u001b[0m\n",
            "\u001b[0;32m/usr/local/lib/python3.10/dist-packages/urllib3/util/util.py\u001b[0m in \u001b[0;36mreraise\u001b[0;34m(tp, value, tb)\u001b[0m\n\u001b[1;32m     38\u001b[0m             \u001b[0;32mraise\u001b[0m \u001b[0mvalue\u001b[0m\u001b[0;34m.\u001b[0m\u001b[0mwith_traceback\u001b[0m\u001b[0;34m(\u001b[0m\u001b[0mtb\u001b[0m\u001b[0;34m)\u001b[0m\u001b[0;34m\u001b[0m\u001b[0;34m\u001b[0m\u001b[0m\n\u001b[0;32m---> 39\u001b[0;31m         \u001b[0;32mraise\u001b[0m \u001b[0mvalue\u001b[0m\u001b[0;34m\u001b[0m\u001b[0;34m\u001b[0m\u001b[0m\n\u001b[0m\u001b[1;32m     40\u001b[0m     \u001b[0;32mfinally\u001b[0m\u001b[0;34m:\u001b[0m\u001b[0;34m\u001b[0m\u001b[0;34m\u001b[0m\u001b[0m\n",
            "\u001b[0;32m/usr/local/lib/python3.10/dist-packages/urllib3/connectionpool.py\u001b[0m in \u001b[0;36murlopen\u001b[0;34m(self, method, url, body, headers, retries, redirect, assert_same_host, timeout, pool_timeout, release_conn, chunked, body_pos, preload_content, decode_content, **response_kw)\u001b[0m\n\u001b[1;32m    786\u001b[0m             \u001b[0;31m# Make the request on the HTTPConnection object\u001b[0m\u001b[0;34m\u001b[0m\u001b[0;34m\u001b[0m\u001b[0m\n\u001b[0;32m--> 787\u001b[0;31m             response = self._make_request(\n\u001b[0m\u001b[1;32m    788\u001b[0m                 \u001b[0mconn\u001b[0m\u001b[0;34m,\u001b[0m\u001b[0;34m\u001b[0m\u001b[0;34m\u001b[0m\u001b[0m\n",
            "\u001b[0;32m/usr/local/lib/python3.10/dist-packages/urllib3/connectionpool.py\u001b[0m in \u001b[0;36m_make_request\u001b[0;34m(self, conn, method, url, body, headers, retries, timeout, chunked, response_conn, preload_content, decode_content, enforce_content_length)\u001b[0m\n\u001b[1;32m    535\u001b[0m         \u001b[0;32mexcept\u001b[0m \u001b[0;34m(\u001b[0m\u001b[0mBaseSSLError\u001b[0m\u001b[0;34m,\u001b[0m \u001b[0mOSError\u001b[0m\u001b[0;34m)\u001b[0m \u001b[0;32mas\u001b[0m \u001b[0me\u001b[0m\u001b[0;34m:\u001b[0m\u001b[0;34m\u001b[0m\u001b[0;34m\u001b[0m\u001b[0m\n\u001b[0;32m--> 536\u001b[0;31m             \u001b[0mself\u001b[0m\u001b[0;34m.\u001b[0m\u001b[0m_raise_timeout\u001b[0m\u001b[0;34m(\u001b[0m\u001b[0merr\u001b[0m\u001b[0;34m=\u001b[0m\u001b[0me\u001b[0m\u001b[0;34m,\u001b[0m \u001b[0murl\u001b[0m\u001b[0;34m=\u001b[0m\u001b[0murl\u001b[0m\u001b[0;34m,\u001b[0m \u001b[0mtimeout_value\u001b[0m\u001b[0;34m=\u001b[0m\u001b[0mread_timeout\u001b[0m\u001b[0;34m)\u001b[0m\u001b[0;34m\u001b[0m\u001b[0;34m\u001b[0m\u001b[0m\n\u001b[0m\u001b[1;32m    537\u001b[0m             \u001b[0;32mraise\u001b[0m\u001b[0;34m\u001b[0m\u001b[0;34m\u001b[0m\u001b[0m\n",
            "\u001b[0;32m/usr/local/lib/python3.10/dist-packages/urllib3/connectionpool.py\u001b[0m in \u001b[0;36m_raise_timeout\u001b[0;34m(self, err, url, timeout_value)\u001b[0m\n\u001b[1;32m    366\u001b[0m         \u001b[0;32mif\u001b[0m \u001b[0misinstance\u001b[0m\u001b[0;34m(\u001b[0m\u001b[0merr\u001b[0m\u001b[0;34m,\u001b[0m \u001b[0mSocketTimeout\u001b[0m\u001b[0;34m)\u001b[0m\u001b[0;34m:\u001b[0m\u001b[0;34m\u001b[0m\u001b[0;34m\u001b[0m\u001b[0m\n\u001b[0;32m--> 367\u001b[0;31m             raise ReadTimeoutError(\n\u001b[0m\u001b[1;32m    368\u001b[0m                 \u001b[0mself\u001b[0m\u001b[0;34m,\u001b[0m \u001b[0murl\u001b[0m\u001b[0;34m,\u001b[0m \u001b[0;34mf\"Read timed out. (read timeout={timeout_value})\"\u001b[0m\u001b[0;34m\u001b[0m\u001b[0;34m\u001b[0m\u001b[0m\n",
            "\u001b[0;31mReadTimeoutError\u001b[0m: HTTPSConnectionPool(host='stats.nba.com', port=443): Read timed out. (read timeout=10)",
            "\nDuring handling of the above exception, another exception occurred:\n",
            "\u001b[0;31mReadTimeout\u001b[0m                               Traceback (most recent call last)",
            "\u001b[0;32m<ipython-input-12-538020201131>\u001b[0m in \u001b[0;36msafe_day_game_log\u001b[0;34m(date_str, season, max_retries)\u001b[0m\n\u001b[1;32m     11\u001b[0m         \u001b[0;32mtry\u001b[0m\u001b[0;34m:\u001b[0m\u001b[0;34m\u001b[0m\u001b[0;34m\u001b[0m\u001b[0m\n\u001b[0;32m---> 12\u001b[0;31m             log = LeagueGameLog(\n\u001b[0m\u001b[1;32m     13\u001b[0m                 \u001b[0mseason\u001b[0m\u001b[0;34m=\u001b[0m\u001b[0mseason\u001b[0m\u001b[0;34m,\u001b[0m\u001b[0;34m\u001b[0m\u001b[0;34m\u001b[0m\u001b[0m\n",
            "\u001b[0;32m/usr/local/lib/python3.10/dist-packages/nba_api/stats/endpoints/leaguegamelog.py\u001b[0m in \u001b[0;36m__init__\u001b[0;34m(self, counter, direction, league_id, player_or_team_abbreviation, season, season_type_all_star, sorter, date_from_nullable, date_to_nullable, proxy, headers, timeout, get_request)\u001b[0m\n\u001b[1;32m     86\u001b[0m         \u001b[0;32mif\u001b[0m \u001b[0mget_request\u001b[0m\u001b[0;34m:\u001b[0m\u001b[0;34m\u001b[0m\u001b[0;34m\u001b[0m\u001b[0m\n\u001b[0;32m---> 87\u001b[0;31m             \u001b[0mself\u001b[0m\u001b[0;34m.\u001b[0m\u001b[0mget_request\u001b[0m\u001b[0;34m(\u001b[0m\u001b[0;34m)\u001b[0m\u001b[0;34m\u001b[0m\u001b[0;34m\u001b[0m\u001b[0m\n\u001b[0m\u001b[1;32m     88\u001b[0m \u001b[0;34m\u001b[0m\u001b[0m\n",
            "\u001b[0;32m/usr/local/lib/python3.10/dist-packages/nba_api/stats/endpoints/leaguegamelog.py\u001b[0m in \u001b[0;36mget_request\u001b[0;34m(self)\u001b[0m\n\u001b[1;32m     89\u001b[0m     \u001b[0;32mdef\u001b[0m \u001b[0mget_request\u001b[0m\u001b[0;34m(\u001b[0m\u001b[0mself\u001b[0m\u001b[0;34m)\u001b[0m\u001b[0;34m:\u001b[0m\u001b[0;34m\u001b[0m\u001b[0;34m\u001b[0m\u001b[0m\n\u001b[0;32m---> 90\u001b[0;31m         self.nba_response = NBAStatsHTTP().send_api_request(\n\u001b[0m\u001b[1;32m     91\u001b[0m             \u001b[0mendpoint\u001b[0m\u001b[0;34m=\u001b[0m\u001b[0mself\u001b[0m\u001b[0;34m.\u001b[0m\u001b[0mendpoint\u001b[0m\u001b[0;34m,\u001b[0m\u001b[0;34m\u001b[0m\u001b[0;34m\u001b[0m\u001b[0m\n",
            "\u001b[0;32m/usr/local/lib/python3.10/dist-packages/nba_api/library/http.py\u001b[0m in \u001b[0;36msend_api_request\u001b[0;34m(self, endpoint, parameters, referer, proxy, headers, timeout, raise_exception_on_error)\u001b[0m\n\u001b[1;32m    159\u001b[0m         \u001b[0;32mif\u001b[0m \u001b[0;32mnot\u001b[0m \u001b[0mcontents\u001b[0m\u001b[0;34m:\u001b[0m\u001b[0;34m\u001b[0m\u001b[0;34m\u001b[0m\u001b[0m\n\u001b[0;32m--> 160\u001b[0;31m             response = self.get_session().get(\n\u001b[0m\u001b[1;32m    161\u001b[0m                 \u001b[0murl\u001b[0m\u001b[0;34m=\u001b[0m\u001b[0mbase_url\u001b[0m\u001b[0;34m,\u001b[0m\u001b[0;34m\u001b[0m\u001b[0;34m\u001b[0m\u001b[0m\n",
            "\u001b[0;32m/usr/local/lib/python3.10/dist-packages/requests/sessions.py\u001b[0m in \u001b[0;36mget\u001b[0;34m(self, url, **kwargs)\u001b[0m\n\u001b[1;32m    601\u001b[0m         \u001b[0mkwargs\u001b[0m\u001b[0;34m.\u001b[0m\u001b[0msetdefault\u001b[0m\u001b[0;34m(\u001b[0m\u001b[0;34m\"allow_redirects\"\u001b[0m\u001b[0;34m,\u001b[0m \u001b[0;32mTrue\u001b[0m\u001b[0;34m)\u001b[0m\u001b[0;34m\u001b[0m\u001b[0;34m\u001b[0m\u001b[0m\n\u001b[0;32m--> 602\u001b[0;31m         \u001b[0;32mreturn\u001b[0m \u001b[0mself\u001b[0m\u001b[0;34m.\u001b[0m\u001b[0mrequest\u001b[0m\u001b[0;34m(\u001b[0m\u001b[0;34m\"GET\"\u001b[0m\u001b[0;34m,\u001b[0m \u001b[0murl\u001b[0m\u001b[0;34m,\u001b[0m \u001b[0;34m**\u001b[0m\u001b[0mkwargs\u001b[0m\u001b[0;34m)\u001b[0m\u001b[0;34m\u001b[0m\u001b[0;34m\u001b[0m\u001b[0m\n\u001b[0m\u001b[1;32m    603\u001b[0m \u001b[0;34m\u001b[0m\u001b[0m\n",
            "\u001b[0;32m/usr/local/lib/python3.10/dist-packages/requests/sessions.py\u001b[0m in \u001b[0;36mrequest\u001b[0;34m(self, method, url, params, data, headers, cookies, files, auth, timeout, allow_redirects, proxies, hooks, stream, verify, cert, json)\u001b[0m\n\u001b[1;32m    588\u001b[0m         \u001b[0msend_kwargs\u001b[0m\u001b[0;34m.\u001b[0m\u001b[0mupdate\u001b[0m\u001b[0;34m(\u001b[0m\u001b[0msettings\u001b[0m\u001b[0;34m)\u001b[0m\u001b[0;34m\u001b[0m\u001b[0;34m\u001b[0m\u001b[0m\n\u001b[0;32m--> 589\u001b[0;31m         \u001b[0mresp\u001b[0m \u001b[0;34m=\u001b[0m \u001b[0mself\u001b[0m\u001b[0;34m.\u001b[0m\u001b[0msend\u001b[0m\u001b[0;34m(\u001b[0m\u001b[0mprep\u001b[0m\u001b[0;34m,\u001b[0m \u001b[0;34m**\u001b[0m\u001b[0msend_kwargs\u001b[0m\u001b[0;34m)\u001b[0m\u001b[0;34m\u001b[0m\u001b[0;34m\u001b[0m\u001b[0m\n\u001b[0m\u001b[1;32m    590\u001b[0m \u001b[0;34m\u001b[0m\u001b[0m\n",
            "\u001b[0;32m/usr/local/lib/python3.10/dist-packages/requests/sessions.py\u001b[0m in \u001b[0;36msend\u001b[0;34m(self, request, **kwargs)\u001b[0m\n\u001b[1;32m    702\u001b[0m         \u001b[0;31m# Send the request\u001b[0m\u001b[0;34m\u001b[0m\u001b[0;34m\u001b[0m\u001b[0m\n\u001b[0;32m--> 703\u001b[0;31m         \u001b[0mr\u001b[0m \u001b[0;34m=\u001b[0m \u001b[0madapter\u001b[0m\u001b[0;34m.\u001b[0m\u001b[0msend\u001b[0m\u001b[0;34m(\u001b[0m\u001b[0mrequest\u001b[0m\u001b[0;34m,\u001b[0m \u001b[0;34m**\u001b[0m\u001b[0mkwargs\u001b[0m\u001b[0;34m)\u001b[0m\u001b[0;34m\u001b[0m\u001b[0;34m\u001b[0m\u001b[0m\n\u001b[0m\u001b[1;32m    704\u001b[0m \u001b[0;34m\u001b[0m\u001b[0m\n",
            "\u001b[0;32m/usr/local/lib/python3.10/dist-packages/requests/adapters.py\u001b[0m in \u001b[0;36msend\u001b[0;34m(self, request, stream, timeout, verify, cert, proxies)\u001b[0m\n\u001b[1;32m    712\u001b[0m             \u001b[0;32melif\u001b[0m \u001b[0misinstance\u001b[0m\u001b[0;34m(\u001b[0m\u001b[0me\u001b[0m\u001b[0;34m,\u001b[0m \u001b[0mReadTimeoutError\u001b[0m\u001b[0;34m)\u001b[0m\u001b[0;34m:\u001b[0m\u001b[0;34m\u001b[0m\u001b[0;34m\u001b[0m\u001b[0m\n\u001b[0;32m--> 713\u001b[0;31m                 \u001b[0;32mraise\u001b[0m \u001b[0mReadTimeout\u001b[0m\u001b[0;34m(\u001b[0m\u001b[0me\u001b[0m\u001b[0;34m,\u001b[0m \u001b[0mrequest\u001b[0m\u001b[0;34m=\u001b[0m\u001b[0mrequest\u001b[0m\u001b[0;34m)\u001b[0m\u001b[0;34m\u001b[0m\u001b[0;34m\u001b[0m\u001b[0m\n\u001b[0m\u001b[1;32m    714\u001b[0m             \u001b[0;32melif\u001b[0m \u001b[0misinstance\u001b[0m\u001b[0;34m(\u001b[0m\u001b[0me\u001b[0m\u001b[0;34m,\u001b[0m \u001b[0m_InvalidHeader\u001b[0m\u001b[0;34m)\u001b[0m\u001b[0;34m:\u001b[0m\u001b[0;34m\u001b[0m\u001b[0;34m\u001b[0m\u001b[0m\n",
            "\u001b[0;31mReadTimeout\u001b[0m: HTTPSConnectionPool(host='stats.nba.com', port=443): Read timed out. (read timeout=10)",
            "\nDuring handling of the above exception, another exception occurred:\n",
            "\u001b[0;31mKeyboardInterrupt\u001b[0m                         Traceback (most recent call last)",
            "\u001b[0;32m<ipython-input-12-538020201131>\u001b[0m in \u001b[0;36m<cell line: 42>\u001b[0;34m()\u001b[0m\n\u001b[1;32m     44\u001b[0m     \u001b[0mdates\u001b[0m \u001b[0;34m=\u001b[0m \u001b[0mgenerate_dates\u001b[0m\u001b[0;34m(\u001b[0m\u001b[0mstart\u001b[0m\u001b[0;34m,\u001b[0m \u001b[0mend\u001b[0m\u001b[0;34m)\u001b[0m\u001b[0;34m\u001b[0m\u001b[0;34m\u001b[0m\u001b[0m\n\u001b[1;32m     45\u001b[0m     \u001b[0;32mfor\u001b[0m \u001b[0md\u001b[0m \u001b[0;32min\u001b[0m \u001b[0mdates\u001b[0m\u001b[0;34m:\u001b[0m\u001b[0;34m\u001b[0m\u001b[0;34m\u001b[0m\u001b[0m\n\u001b[0;32m---> 46\u001b[0;31m         \u001b[0mdf\u001b[0m \u001b[0;34m=\u001b[0m \u001b[0msafe_day_game_log\u001b[0m\u001b[0;34m(\u001b[0m\u001b[0md\u001b[0m\u001b[0;34m,\u001b[0m \u001b[0mseason\u001b[0m\u001b[0;34m)\u001b[0m\u001b[0;34m\u001b[0m\u001b[0;34m\u001b[0m\u001b[0m\n\u001b[0m\u001b[1;32m     47\u001b[0m         \u001b[0;32mif\u001b[0m \u001b[0;32mnot\u001b[0m \u001b[0mdf\u001b[0m\u001b[0;34m.\u001b[0m\u001b[0mempty\u001b[0m\u001b[0;34m:\u001b[0m\u001b[0;34m\u001b[0m\u001b[0;34m\u001b[0m\u001b[0m\n\u001b[1;32m     48\u001b[0m             \u001b[0mdf\u001b[0m\u001b[0;34m[\u001b[0m\u001b[0;34m\"GAME_DATE\"\u001b[0m\u001b[0;34m]\u001b[0m \u001b[0;34m=\u001b[0m \u001b[0mpd\u001b[0m\u001b[0;34m.\u001b[0m\u001b[0mto_datetime\u001b[0m\u001b[0;34m(\u001b[0m\u001b[0mdf\u001b[0m\u001b[0;34m[\u001b[0m\u001b[0;34m\"GAME_DATE\"\u001b[0m\u001b[0;34m]\u001b[0m\u001b[0;34m)\u001b[0m\u001b[0;34m.\u001b[0m\u001b[0mdt\u001b[0m\u001b[0;34m.\u001b[0m\u001b[0mdate\u001b[0m\u001b[0;34m\u001b[0m\u001b[0;34m\u001b[0m\u001b[0m\n",
            "\u001b[0;32m<ipython-input-12-538020201131>\u001b[0m in \u001b[0;36msafe_day_game_log\u001b[0;34m(date_str, season, max_retries)\u001b[0m\n\u001b[1;32m     21\u001b[0m         \u001b[0;32mexcept\u001b[0m \u001b[0mReadTimeout\u001b[0m\u001b[0;34m:\u001b[0m\u001b[0;34m\u001b[0m\u001b[0;34m\u001b[0m\u001b[0m\n\u001b[1;32m     22\u001b[0m             \u001b[0mprint\u001b[0m\u001b[0;34m(\u001b[0m\u001b[0;34mf\"Timeout on {date_str}, retry {attempt+1}/{max_retries}\"\u001b[0m\u001b[0;34m)\u001b[0m\u001b[0;34m\u001b[0m\u001b[0;34m\u001b[0m\u001b[0m\n\u001b[0;32m---> 23\u001b[0;31m             \u001b[0mtime\u001b[0m\u001b[0;34m.\u001b[0m\u001b[0msleep\u001b[0m\u001b[0;34m(\u001b[0m\u001b[0;36m2\u001b[0m \u001b[0;34m*\u001b[0m \u001b[0;34m(\u001b[0m\u001b[0mattempt\u001b[0m \u001b[0;34m+\u001b[0m \u001b[0;36m1\u001b[0m\u001b[0;34m)\u001b[0m\u001b[0;34m)\u001b[0m\u001b[0;34m\u001b[0m\u001b[0;34m\u001b[0m\u001b[0m\n\u001b[0m\u001b[1;32m     24\u001b[0m     \u001b[0;32mreturn\u001b[0m \u001b[0mpd\u001b[0m\u001b[0;34m.\u001b[0m\u001b[0mDataFrame\u001b[0m\u001b[0;34m(\u001b[0m\u001b[0;34m)\u001b[0m\u001b[0;34m\u001b[0m\u001b[0;34m\u001b[0m\u001b[0m\n\u001b[1;32m     25\u001b[0m \u001b[0;34m\u001b[0m\u001b[0m\n",
            "\u001b[0;31mKeyboardInterrupt\u001b[0m: "
          ]
        }
      ]
    },
    {
      "cell_type": "code",
      "source": [],
      "metadata": {
        "id": "ggGDJnUQVDdu"
      },
      "execution_count": null,
      "outputs": []
    }
  ]
}